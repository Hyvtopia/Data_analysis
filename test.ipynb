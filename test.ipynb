{
 "cells": [
  {
   "cell_type": "code",
   "execution_count": 1,
   "metadata": {},
   "outputs": [
    {
     "name": "stdout",
     "output_type": "stream",
     "text": [
      "1\n",
      "2\n",
      "3\n",
      "4\n",
      "5\n"
     ]
    }
   ],
   "source": [
    "number= 1\n",
    "while number <= 5:\n",
    "    print number\n",
    "    number += 1"
   ]
  },
  {
   "cell_type": "code",
   "execution_count": 3,
   "metadata": {},
   "outputs": [
    {
     "name": "stdout",
     "output_type": "stream",
     "text": [
      "\n",
      " Tell me something, and i will repeat it back to you \n",
      " enter 'quit' to end the program'something'\n",
      "something\n",
      "\n",
      " Tell me something, and i will repeat it back to you \n",
      " enter 'quit' to end the program'i'\n",
      "i\n",
      "\n",
      " Tell me something, and i will repeat it back to you \n",
      " enter 'quit' to end the program'quit'\n",
      "quit\n"
     ]
    }
   ],
   "source": [
    "prompt = \"\\n Tell me something, and i will repeat it back to you\"\n",
    "prompt += \" \\n enter 'quit' to end the program\"\n",
    "message = \"\"\n",
    "while message != 'quit':\n",
    "    message = input(prompt)\n",
    "    print message"
   ]
  },
  {
   "cell_type": "code",
   "execution_count": 8,
   "metadata": {},
   "outputs": [
    {
     "name": "stdout",
     "output_type": "stream",
     "text": [
      "1\n",
      "3\n",
      "5\n",
      "7\n",
      "9\n"
     ]
    }
   ],
   "source": [
    "number = 1\n",
    "while number <=10:\n",
    "    print number\n",
    "    number+=2\n",
    "    \n"
   ]
  },
  {
   "cell_type": "code",
   "execution_count": 10,
   "metadata": {},
   "outputs": [
    {
     "name": "stdout",
     "output_type": "stream",
     "text": [
      "\n",
      " Tell me something, and i will repeat it back to you \n",
      " enter 'quit' to end the program'quit'\n"
     ]
    }
   ],
   "source": [
    "active = True \n",
    "while active:\n",
    "    message = input(prompt)\n",
    "    \n",
    "    if message == 'quit':\n",
    "        active = False\n",
    "    else:\n",
    "        print(message)"
   ]
  },
  {
   "cell_type": "code",
   "execution_count": 12,
   "metadata": {},
   "outputs": [
    {
     "name": "stdout",
     "output_type": "stream",
     "text": [
      "the confirmed users :shd\n",
      "the confirmed users :tyy\n",
      "the confirmed users :hy\n",
      "\n",
      " the following users have benn confirmed:\n",
      "Shd\n",
      "Tyy\n",
      "Hy\n"
     ]
    }
   ],
   "source": [
    "name=['hy','tyy','shd']\n",
    "confirmed_user=[]\n",
    "\n",
    "while name:\n",
    "    current_user=name.pop()\n",
    "    print(\"the confirmed users :\" + current_user)\n",
    "    confirmed_user.append(current_user)\n",
    "print ('\\n the following users have benn confirmed:')\n",
    "for confirmed_user1 in confirmed_user:\n",
    "    print(confirmed_user1.title())\n",
    "    "
   ]
  },
  {
   "cell_type": "code",
   "execution_count": null,
   "metadata": {},
   "outputs": [],
   "source": []
  }
 ],
 "metadata": {
  "kernelspec": {
   "display_name": "Python 3",
   "language": "python",
   "name": "python3"
  },
  "language_info": {
   "codemirror_mode": {
    "name": "ipython",
    "version": 3
   },
   "file_extension": ".py",
   "mimetype": "text/x-python",
   "name": "python",
   "nbconvert_exporter": "python",
   "pygments_lexer": "ipython3",
   "version": "3.6.8"
  }
 },
 "nbformat": 4,
 "nbformat_minor": 2
}
