{
 "cells": [
  {
   "cell_type": "code",
   "execution_count": 1,
   "metadata": {},
   "outputs": [],
   "source": [
    "#1.\n",
    "import numpy as np"
   ]
  },
  {
   "cell_type": "code",
   "execution_count": 2,
   "metadata": {},
   "outputs": [
    {
     "name": "stdout",
     "output_type": "stream",
     "text": [
      "1.15.4\n"
     ]
    }
   ],
   "source": [
    "#2.\n",
    "print(np.__version__)"
   ]
  },
  {
   "cell_type": "code",
   "execution_count": 3,
   "metadata": {},
   "outputs": [
    {
     "data": {
      "text/plain": [
       "array([0., 0., 0., 0., 0., 0., 0., 0., 0., 0.])"
      ]
     },
     "execution_count": 3,
     "metadata": {},
     "output_type": "execute_result"
    }
   ],
   "source": [
    "#3.\n",
    "np.zeros(10)"
   ]
  },
  {
   "cell_type": "code",
   "execution_count": 9,
   "metadata": {},
   "outputs": [
    {
     "name": "stdout",
     "output_type": "stream",
     "text": [
      "40 bytes\n"
     ]
    }
   ],
   "source": [
    "#4.\n",
    "data1=np.zeros(5)\n",
    "size=data1.size*data1.itemsize\n",
    "print(\"%d bytes\"% size)"
   ]
  },
  {
   "cell_type": "code",
   "execution_count": 13,
   "metadata": {},
   "outputs": [
    {
     "name": "stdout",
     "output_type": "stream",
     "text": [
      "add(x1, x2, /, out=None, *, where=True, casting='same_kind', order='K', dtype=None, subok=True[, signature, extobj])\n",
      "\n",
      "Add arguments element-wise.\n",
      "\n",
      "Parameters\n",
      "----------\n",
      "x1, x2 : array_like\n",
      "    The arrays to be added.  If ``x1.shape != x2.shape``, they must be\n",
      "    broadcastable to a common shape (which may be the shape of one or\n",
      "    the other).\n",
      "out : ndarray, None, or tuple of ndarray and None, optional\n",
      "    A location into which the result is stored. If provided, it must have\n",
      "    a shape that the inputs broadcast to. If not provided or `None`,\n",
      "    a freshly-allocated array is returned. A tuple (possible only as a\n",
      "    keyword argument) must have length equal to the number of outputs.\n",
      "where : array_like, optional\n",
      "    Values of True indicate to calculate the ufunc at that position, values\n",
      "    of False indicate to leave the value in the output alone.\n",
      "**kwargs\n",
      "    For other keyword-only arguments, see the\n",
      "    :ref:`ufunc docs <ufuncs.kwargs>`.\n",
      "\n",
      "Returns\n",
      "-------\n",
      "add : ndarray or scalar\n",
      "    The sum of `x1` and `x2`, element-wise.\n",
      "    This is a scalar if both `x1` and `x2` are scalars.\n",
      "\n",
      "Notes\n",
      "-----\n",
      "Equivalent to `x1` + `x2` in terms of array broadcasting.\n",
      "\n",
      "Examples\n",
      "--------\n",
      ">>> np.add(1.0, 4.0)\n",
      "5.0\n",
      ">>> x1 = np.arange(9.0).reshape((3, 3))\n",
      ">>> x2 = np.arange(3.0)\n",
      ">>> np.add(x1, x2)\n",
      "array([[  0.,   2.,   4.],\n",
      "       [  3.,   5.,   7.],\n",
      "       [  6.,   8.,  10.]])\n"
     ]
    }
   ],
   "source": [
    "#5.如何从命令行得到numpy中add函数的说明文档\n",
    "np.info(np.add)"
   ]
  },
  {
   "cell_type": "code",
   "execution_count": 14,
   "metadata": {},
   "outputs": [
    {
     "name": "stdout",
     "output_type": "stream",
     "text": [
      "[0. 0. 0. 0. 1. 0. 0. 0. 0. 0.]\n"
     ]
    }
   ],
   "source": [
    "#6.\n",
    "data2=np.zeros(10)\n",
    "data2[4]=1\n",
    "print(data2)"
   ]
  },
  {
   "cell_type": "code",
   "execution_count": 16,
   "metadata": {},
   "outputs": [
    {
     "name": "stdout",
     "output_type": "stream",
     "text": [
      "[10 11 12 13 14 15 16 17 18 19 20 21 22 23 24 25 26 27 28 29 30 31 32 33\n",
      " 34 35 36 37 38 39 40 41 42 43 44 45 46 47 48 49]\n"
     ]
    }
   ],
   "source": [
    "#7.\n",
    "data3=np.arange(10,50)\n",
    "print(data3)"
   ]
  },
  {
   "cell_type": "code",
   "execution_count": 17,
   "metadata": {},
   "outputs": [
    {
     "name": "stdout",
     "output_type": "stream",
     "text": [
      "[49 48 47 46 45 44 43 42 41 40 39 38 37 36 35 34 33 32 31 30 29 28 27 26\n",
      " 25 24 23 22 21 20 19 18 17 16 15 14 13 12 11 10]\n"
     ]
    }
   ],
   "source": [
    "#8.\n",
    "data4=data3[::-1]\n",
    "print(data4)"
   ]
  },
  {
   "cell_type": "code",
   "execution_count": 18,
   "metadata": {},
   "outputs": [
    {
     "name": "stdout",
     "output_type": "stream",
     "text": [
      "[[0 1 2]\n",
      " [3 4 5]\n",
      " [6 7 8]]\n"
     ]
    }
   ],
   "source": [
    "#9.\n",
    "data5=np.arange(0,9)\n",
    "data5=data5.reshape(3,3)\n",
    "print(data5)"
   ]
  },
  {
   "cell_type": "code",
   "execution_count": 20,
   "metadata": {},
   "outputs": [
    {
     "name": "stdout",
     "output_type": "stream",
     "text": [
      "(array([0, 1, 4], dtype=int64),)\n"
     ]
    }
   ],
   "source": [
    "#10.(newlearn)\n",
    "n=np.nonzero([1,2,0,0,4,0])\n",
    "print(n)"
   ]
  },
  {
   "cell_type": "code",
   "execution_count": 21,
   "metadata": {},
   "outputs": [
    {
     "name": "stdout",
     "output_type": "stream",
     "text": [
      "[[1. 0. 0.]\n",
      " [0. 1. 0.]\n",
      " [0. 0. 1.]]\n"
     ]
    }
   ],
   "source": [
    "#11.\n",
    "data6=np.eye(3)\n",
    "print(data6)"
   ]
  },
  {
   "cell_type": "code",
   "execution_count": 22,
   "metadata": {},
   "outputs": [
    {
     "name": "stdout",
     "output_type": "stream",
     "text": [
      "[[[0.13455459 0.26601423 0.68338627]\n",
      "  [0.84296493 0.40845445 0.53320935]\n",
      "  [0.85677201 0.73128091 0.84107011]]\n",
      "\n",
      " [[0.66634265 0.32490184 0.07485934]\n",
      "  [0.63276252 0.95082833 0.5601329 ]\n",
      "  [0.24580891 0.37716351 0.57087125]]\n",
      "\n",
      " [[0.88677498 0.29269168 0.30356327]\n",
      "  [0.37320713 0.94115078 0.13015423]\n",
      "  [0.56697642 0.65846749 0.3745454 ]]]\n"
     ]
    }
   ],
   "source": [
    "#12.\n",
    "data7=np.random.random((3,3,3))\n",
    "print(data7)"
   ]
  },
  {
   "cell_type": "code",
   "execution_count": 23,
   "metadata": {},
   "outputs": [
    {
     "name": "stdout",
     "output_type": "stream",
     "text": [
      "0.009648932344953676\n",
      "0.9834223509228069\n"
     ]
    }
   ],
   "source": [
    "#13.\n",
    "data8=np.random.random((10,10))\n",
    "data8_min=data8.min()\n",
    "data8_max=data8.max()\n",
    "print(data8_min)\n",
    "print(data8_max)"
   ]
  },
  {
   "cell_type": "code",
   "execution_count": 24,
   "metadata": {},
   "outputs": [
    {
     "name": "stdout",
     "output_type": "stream",
     "text": [
      "0.5218968087765166\n"
     ]
    }
   ],
   "source": [
    "#14.注意随机数组和随机向量创建方法的不同处\n",
    "data9=np.random.random(30)\n",
    "data9_mean=data9.mean()\n",
    "print(data9_mean)"
   ]
  },
  {
   "cell_type": "code",
   "execution_count": 25,
   "metadata": {},
   "outputs": [
    {
     "name": "stdout",
     "output_type": "stream",
     "text": [
      "[[1. 1. 1. 1. 1.]\n",
      " [1. 0. 0. 0. 1.]\n",
      " [1. 0. 0. 0. 1.]\n",
      " [1. 0. 0. 0. 1.]\n",
      " [1. 1. 1. 1. 1.]]\n"
     ]
    }
   ],
   "source": [
    "#15.注意固定边界值的创建方法\n",
    "data10=np.ones((5,5))\n",
    "data10[1:-1,1:-1]=0\n",
    "print(data10)"
   ]
  },
  {
   "cell_type": "code",
   "execution_count": 29,
   "metadata": {},
   "outputs": [
    {
     "name": "stdout",
     "output_type": "stream",
     "text": [
      "[[0.         0.         0.         0.         0.         0.\n",
      "  0.         0.         0.         0.         0.         0.        ]\n",
      " [0.         0.36255051 0.55511915 0.13886867 0.39050554 0.25467782\n",
      "  0.83551539 0.51203484 0.2934236  0.36966173 0.12706039 0.        ]\n",
      " [0.         0.49562416 0.         0.         0.         0.\n",
      "  0.         0.         0.         0.         0.94597605 0.        ]\n",
      " [0.         0.71638963 0.         0.         0.         0.\n",
      "  0.         0.         0.         0.         0.4804004  0.        ]\n",
      " [0.         0.94029556 0.         0.         0.         0.\n",
      "  0.         0.         0.         0.         0.79878385 0.        ]\n",
      " [0.         0.45592474 0.         0.         0.         0.\n",
      "  0.         0.         0.         0.         0.63226258 0.        ]\n",
      " [0.         0.13137185 0.         0.         0.         0.\n",
      "  0.         0.         0.         0.         0.27864046 0.        ]\n",
      " [0.         0.23410832 0.         0.         0.         0.\n",
      "  0.         0.         0.         0.         0.88468108 0.        ]\n",
      " [0.         0.5045049  0.         0.         0.         0.\n",
      "  0.         0.         0.         0.         0.90950683 0.        ]\n",
      " [0.         0.74034356 0.         0.         0.         0.\n",
      "  0.         0.         0.         0.         0.94944281 0.        ]\n",
      " [0.         0.23660946 0.63297706 0.72097645 0.74728676 0.61934937\n",
      "  0.33407328 0.89679582 0.29219316 0.18798739 0.7646101  0.        ]\n",
      " [0.         0.         0.         0.         0.         0.\n",
      "  0.         0.         0.         0.         0.         0.        ]]\n"
     ]
    }
   ],
   "source": [
    "#16.***用任意值填充为边界值\n",
    "data11=np.pad(data8,pad_width=1,mode='constant',constant_values=0)\n",
    "print(data11)"
   ]
  },
  {
   "cell_type": "code",
   "execution_count": 31,
   "metadata": {},
   "outputs": [
    {
     "name": "stdout",
     "output_type": "stream",
     "text": [
      "nan\n",
      "nan\n",
      "False\n",
      "nan\n",
      "False\n"
     ]
    }
   ],
   "source": [
    "#17.\n",
    "data12=np.nan\n",
    "print(data12)\n",
    "print(0*np.nan)\n",
    "print(np.nan==np.nan)\n",
    "print(np.nan-np.nan)\n",
    "print(0.3==3*0.1)"
   ]
  },
  {
   "cell_type": "code",
   "execution_count": 42,
   "metadata": {},
   "outputs": [
    {
     "name": "stdout",
     "output_type": "stream",
     "text": [
      "[[0 0 0 0 0 0]\n",
      " [0 0 0 0 0 0]\n",
      " [1 0 0 0 0 0]\n",
      " [0 2 0 0 0 0]\n",
      " [0 0 3 0 0 0]\n",
      " [0 0 0 4 0 0]]\n"
     ]
    }
   ],
   "source": [
    "#18.创建一个5×5的矩阵，并设置值1，2，3，4落在其对角线下方位置\n",
    "data13=np.diag(1+np.arange(4),k=-1)  ##这里k=-1,相当于对角线的值向下平移一个单位\n",
    "print(data13)"
   ]
  },
  {
   "cell_type": "code",
   "execution_count": 43,
   "metadata": {},
   "outputs": [
    {
     "name": "stdout",
     "output_type": "stream",
     "text": [
      "[[0 1 0 1 0 1 0 1]\n",
      " [1 0 1 0 1 0 1 0]\n",
      " [0 1 0 1 0 1 0 1]\n",
      " [1 0 1 0 1 0 1 0]\n",
      " [0 1 0 1 0 1 0 1]\n",
      " [1 0 1 0 1 0 1 0]\n",
      " [0 1 0 1 0 1 0 1]\n",
      " [1 0 1 0 1 0 1 0]]\n"
     ]
    }
   ],
   "source": [
    "#19.棋盘式\n",
    "data14=np.zeros((8,8),dtype=int)\n",
    "data14[1::2,::2]=1\n",
    "data14[::2,1::2]=1\n",
    "print(data14)"
   ]
  },
  {
   "cell_type": "code",
   "execution_count": 49,
   "metadata": {},
   "outputs": [
    {
     "name": "stdout",
     "output_type": "stream",
     "text": [
      "[[[0.25018874 0.33379644 0.83755824 0.48734996 0.3915661  0.83461859\n",
      "   0.29223303 0.51730457]\n",
      "  [0.12596339 0.52308934 0.74317046 0.1551165  0.88709504 0.90643458\n",
      "   0.38767098 0.87948404]\n",
      "  [0.63820228 0.39085573 0.51747634 0.74894126 0.14730229 0.01703075\n",
      "   0.9923503  0.08493355]\n",
      "  [0.85730174 0.10527474 0.99345966 0.07988152 0.91966919 0.97527711\n",
      "   0.40014799 0.5128055 ]\n",
      "  [0.48717051 0.85144022 0.3625538  0.43465606 0.72131823 0.61678444\n",
      "   0.32629598 0.03568227]\n",
      "  [0.45348571 0.42974505 0.76362794 0.42527989 0.61363871 0.36918426\n",
      "   0.55761517 0.28724344]\n",
      "  [0.5747601  0.17036704 0.30663763 0.90598017 0.72515339 0.33305452\n",
      "   0.19947907 0.40790611]]\n",
      "\n",
      " [[0.20999841 0.0600704  0.73708741 0.63645112 0.88433304 0.2827184\n",
      "   0.60676529 0.4927445 ]\n",
      "  [0.7438615  0.54689014 0.71479694 0.38174675 0.98492837 0.35138497\n",
      "   0.3575115  0.42796091]\n",
      "  [0.28793041 0.04384411 0.42109447 0.07084352 0.98220334 0.15634272\n",
      "   0.78641792 0.95976067]\n",
      "  [0.28122332 0.91836827 0.83384263 0.45469671 0.35740875 0.81710712\n",
      "   0.36502851 0.96778846]\n",
      "  [0.69123471 0.40572097 0.69783761 0.02562838 0.38151143 0.46503334\n",
      "   0.94017279 0.07268178]\n",
      "  [0.01081806 0.44000323 0.50136717 0.37861121 0.53766021 0.24958609\n",
      "   0.02417838 0.76722832]\n",
      "  [0.27808801 0.26708355 0.29341066 0.34015257 0.58717627 0.83422607\n",
      "   0.67666007 0.95430011]]\n",
      "\n",
      " [[0.30836124 0.19489473 0.83716459 0.75781432 0.96001086 0.36901536\n",
      "   0.73999253 0.83497404]\n",
      "  [0.29862951 0.07171416 0.05684201 0.69042727 0.15169522 0.60999862\n",
      "   0.96690424 0.16113259]\n",
      "  [0.50095348 0.227693   0.37783967 0.25774167 0.51257551 0.59794612\n",
      "   0.97227982 0.17078319]\n",
      "  [0.39588249 0.56427329 0.85353708 0.76881533 0.10047945 0.49246786\n",
      "   0.42396773 0.99547384]\n",
      "  [0.9380632  0.45362677 0.16164743 0.72826559 0.03959714 0.10837887\n",
      "   0.17487582 0.55373892]\n",
      "  [0.63679789 0.58907557 0.00570379 0.48204357 0.95652009 0.56095222\n",
      "   0.08165543 0.1726525 ]\n",
      "  [0.34462595 0.7627948  0.2853885  0.9096888  0.97061705 0.63071791\n",
      "   0.11911531 0.42682946]]\n",
      "\n",
      " [[0.79945124 0.86268145 0.27759287 0.13306138 0.371871   0.87038742\n",
      "   0.69801714 0.12609997]\n",
      "  [0.62314768 0.10713935 0.77234476 0.07401999 0.94159734 0.10784545\n",
      "   0.702802   0.3280054 ]\n",
      "  [0.25932706 0.04877771 0.12927481 0.27613733 0.10789578 0.54132168\n",
      "   0.13218688 0.40908019]\n",
      "  [0.3199836  0.49035239 0.73400778 0.67200475 0.20159178 0.29550075\n",
      "   0.94513627 0.98919765]\n",
      "  [0.57694452 0.85116082 0.58870231 0.6046772  0.20315852 0.46403068\n",
      "   0.44745105 0.73753018]\n",
      "  [0.44222736 0.19432889 0.01780704 0.64290435 0.00816769 0.4375031\n",
      "   0.93330583 0.04003966]\n",
      "  [0.19767543 0.76511093 0.96159768 0.63095191 0.64747245 0.96072533\n",
      "   0.18006475 0.29089925]]\n",
      "\n",
      " [[0.40711744 0.72524823 0.62058214 0.88444123 0.9093871  0.33958341\n",
      "   0.88655098 0.24319413]\n",
      "  [0.27281636 0.06039627 0.86628715 0.89486367 0.1957149  0.55025713\n",
      "   0.91718818 0.85212669]\n",
      "  [0.31287824 0.24534069 0.70852455 0.37378806 0.4156845  0.0473778\n",
      "   0.94367595 0.46215617]\n",
      "  [0.48570678 0.18858174 0.62336427 0.64326121 0.5254214  0.31824688\n",
      "   0.46078135 0.35677995]\n",
      "  [0.35705145 0.48273206 0.32558656 0.57281681 0.78198833 0.33871508\n",
      "   0.4216363  0.39029723]\n",
      "  [0.65337377 0.51648763 0.00116851 0.78766649 0.17154536 0.29239736\n",
      "   0.96701092 0.98725966]\n",
      "  [0.71706692 0.57767395 0.08214059 0.96618536 0.62429355 0.97727656\n",
      "   0.55907733 0.3286388 ]]\n",
      "\n",
      " [[0.38061232 0.03593705 0.74618075 0.1556492  0.8575529  0.04245496\n",
      "   0.50573964 0.52213444]\n",
      "  [0.80506379 0.15246308 0.36516552 0.92529161 0.99259324 0.71630466\n",
      "   0.72372417 0.17771285]\n",
      "  [0.45734314 0.01939869 0.39418084 0.36296131 0.72911611 0.24527525\n",
      "   0.4158437  0.52313326]\n",
      "  [0.64734735 0.37677647 0.83977294 0.86345152 0.52170458 0.94475671\n",
      "   0.28795074 0.65446579]\n",
      "  [0.74125355 0.25430678 0.20286903 0.03848857 0.95031223 0.12901908\n",
      "   0.41731552 0.04521751]\n",
      "  [0.65135236 0.13291301 0.19903428 0.2782884  0.61059707 0.89972432\n",
      "   0.04796867 0.67454364]\n",
      "  [0.88173942 0.86541667 0.8154723  0.42392667 0.05469337 0.63102917\n",
      "   0.1268566  0.22334317]]]\n",
      "(0, 1, 2)\n"
     ]
    }
   ],
   "source": [
    "#20.\n",
    "data15=np.random.random((6,7,8))\n",
    "print(data15)\n",
    "print(np.unravel_index(10,(6,7,8)))"
   ]
  },
  {
   "cell_type": "code",
   "execution_count": 50,
   "metadata": {},
   "outputs": [
    {
     "name": "stdout",
     "output_type": "stream",
     "text": [
      "[[0 1 0 1 0 1 0 1]\n",
      " [1 0 1 0 1 0 1 0]\n",
      " [0 1 0 1 0 1 0 1]\n",
      " [1 0 1 0 1 0 1 0]\n",
      " [0 1 0 1 0 1 0 1]\n",
      " [1 0 1 0 1 0 1 0]\n",
      " [0 1 0 1 0 1 0 1]\n",
      " [1 0 1 0 1 0 1 0]]\n"
     ]
    }
   ],
   "source": [
    "#21.用tile函数去创建一个8×8的棋盘样式矩阵（注：tile函数是指将原矩阵横向、纵向地复制）\n",
    "data16=np.tile(np.array([[0,1],[1,0]]),(4,4))\n",
    "print(data16)\n",
    "                         "
   ]
  },
  {
   "cell_type": "code",
   "execution_count": 52,
   "metadata": {},
   "outputs": [
    {
     "name": "stdout",
     "output_type": "stream",
     "text": [
      "[[0.0860784  0.7006751  0.64499103 0.43943364 0.17888106]\n",
      " [0.         0.43299704 0.39961644 0.89272116 0.77559779]\n",
      " [0.66803238 0.05571809 0.10455027 0.2082419  0.82387404]\n",
      " [0.29711512 0.80971865 0.92611564 0.9647303  0.55332263]\n",
      " [1.         0.27249215 0.88095103 0.63542681 0.48374521]]\n"
     ]
    }
   ],
   "source": [
    "#22.归一化(数据处理中蛮重要)\n",
    "data17=np.random.random((5,5))\n",
    "data17_min,data17_max=data17.min(),data17.max()\n",
    "data17_normal=(data17-data17_min)/(data17_max-data17_min)\n",
    "print(data17_normal)"
   ]
  },
  {
   "cell_type": "code",
   "execution_count": 53,
   "metadata": {},
   "outputs": [
    {
     "name": "stdout",
     "output_type": "stream",
     "text": [
      "[('R', 'u1'), ('G', 'u1'), ('B', 'u1'), ('A', 'u1')]\n"
     ]
    }
   ],
   "source": [
    "#23.创建一个将颜色描述为RGBA四个无符号字节地自定义dtype\n",
    "color=np.dtype([('R',np.ubyte,1),\n",
    "               ('G',np.ubyte,1),\n",
    "               ('B',np.ubyte,1),\n",
    "               ('A',np.ubyte,1)])\n",
    "print(color)"
   ]
  },
  {
   "cell_type": "code",
   "execution_count": 55,
   "metadata": {},
   "outputs": [
    {
     "name": "stdout",
     "output_type": "stream",
     "text": [
      "[[ 1  2  3]\n",
      " [ 4  5  6]\n",
      " [ 7  8  9]\n",
      " [10 11 12]\n",
      " [13 14 15]]\n",
      "[[ 58  64]\n",
      " [139 154]\n",
      " [220 244]\n",
      " [301 334]\n",
      " [382 424]]\n"
     ]
    }
   ],
   "source": [
    "#24.两矩阵相乘(点乘)\n",
    "matrix1=np.arange(1,16).reshape(5,3)\n",
    "print(matrix1)\n",
    "matrix2=np.arange(7,13).reshape(3,2)\n",
    "matrix=np.dot(matrix1,matrix2)\n",
    "print(matrix)"
   ]
  },
  {
   "cell_type": "code",
   "execution_count": 58,
   "metadata": {},
   "outputs": [
    {
     "name": "stdout",
     "output_type": "stream",
     "text": [
      "[ 1  2 -3 -4 -5 -6 -7 -8  9]\n"
     ]
    }
   ],
   "source": [
    "#25. 给定一个一位数组，对其在3到8间地所有元素取反\n",
    "data18=np.arange(1,10)\n",
    "data18[(3<=data18)&(data18<=8)]*=-1\n",
    "print(data18)"
   ]
  },
  {
   "cell_type": "code",
   "execution_count": 67,
   "metadata": {},
   "outputs": [
    {
     "name": "stdout",
     "output_type": "stream",
     "text": [
      "10\n",
      "10\n"
     ]
    }
   ],
   "source": [
    "#26.(不太懂)\n",
    "print(sum(range(5),-1))\n",
    "from numpy import *\n",
    "print(sum(range(5),-1))"
   ]
  },
  {
   "cell_type": "code",
   "execution_count": 74,
   "metadata": {},
   "outputs": [
    {
     "name": "stdout",
     "output_type": "stream",
     "text": [
      "[1 1 4]\n",
      "[0 1 2]\n",
      "[False False False]\n",
      "[0.+0.j 0.+1.j 0.+2.j]\n",
      "[0. 1. 2.]\n"
     ]
    },
    {
     "ename": "ValueError",
     "evalue": "The truth value of an array with more than one element is ambiguous. Use a.any() or a.all()",
     "output_type": "error",
     "traceback": [
      "\u001b[1;31m---------------------------------------------------------------------------\u001b[0m",
      "\u001b[1;31mValueError\u001b[0m                                Traceback (most recent call last)",
      "\u001b[1;32m<ipython-input-74-a869b48c6992>\u001b[0m in \u001b[0;36m<module>\u001b[1;34m\u001b[0m\n\u001b[0;32m      6\u001b[0m \u001b[0mprint\u001b[0m\u001b[1;33m(\u001b[0m\u001b[1;36m1j\u001b[0m\u001b[1;33m*\u001b[0m\u001b[0mdata18\u001b[0m\u001b[1;33m)\u001b[0m\u001b[1;33m\u001b[0m\u001b[1;33m\u001b[0m\u001b[0m\n\u001b[0;32m      7\u001b[0m \u001b[0mprint\u001b[0m\u001b[1;33m(\u001b[0m\u001b[0mdata18\u001b[0m\u001b[1;33m/\u001b[0m\u001b[1;36m1\u001b[0m\u001b[1;33m/\u001b[0m\u001b[1;36m1\u001b[0m\u001b[1;33m)\u001b[0m\u001b[1;33m\u001b[0m\u001b[1;33m\u001b[0m\u001b[0m\n\u001b[1;32m----> 8\u001b[1;33m \u001b[0mprint\u001b[0m\u001b[1;33m(\u001b[0m\u001b[0mdata18\u001b[0m\u001b[1;33m<\u001b[0m\u001b[0mdata18\u001b[0m\u001b[1;33m>\u001b[0m\u001b[0mdata18\u001b[0m\u001b[1;33m)\u001b[0m\u001b[1;33m\u001b[0m\u001b[1;33m\u001b[0m\u001b[0m\n\u001b[0m",
      "\u001b[1;31mValueError\u001b[0m: The truth value of an array with more than one element is ambiguous. Use a.any() or a.all()"
     ]
    }
   ],
   "source": [
    "#27.\n",
    "data18=np.arange(3)\n",
    "print(data18**data18)\n",
    "print(2<<data18>>2)\n",
    "print(data18<-data18)\n",
    "print(1j*data18)\n",
    "print(data18/1/1)\n",
    "print(data18<data18>data18)"
   ]
  },
  {
   "cell_type": "code",
   "execution_count": 75,
   "metadata": {},
   "outputs": [
    {
     "name": "stdout",
     "output_type": "stream",
     "text": [
      "nan\n",
      "0\n"
     ]
    },
    {
     "name": "stderr",
     "output_type": "stream",
     "text": [
      "C:\\Users\\hyvto\\Anaconda3\\lib\\site-packages\\ipykernel_launcher.py:2: RuntimeWarning: invalid value encountered in true_divide\n",
      "  \n",
      "C:\\Users\\hyvto\\Anaconda3\\lib\\site-packages\\ipykernel_launcher.py:3: RuntimeWarning: divide by zero encountered in floor_divide\n",
      "  This is separate from the ipykernel package so we can avoid doing imports until\n"
     ]
    },
    {
     "ename": "TypeError",
     "evalue": "'builtin_function_or_method' object is not subscriptable",
     "output_type": "error",
     "traceback": [
      "\u001b[1;31m---------------------------------------------------------------------------\u001b[0m",
      "\u001b[1;31mTypeError\u001b[0m                                 Traceback (most recent call last)",
      "\u001b[1;32m<ipython-input-75-8aca303ae55b>\u001b[0m in \u001b[0;36m<module>\u001b[1;34m\u001b[0m\n\u001b[0;32m      2\u001b[0m \u001b[0mprint\u001b[0m\u001b[1;33m(\u001b[0m\u001b[0mnp\u001b[0m\u001b[1;33m.\u001b[0m\u001b[0marray\u001b[0m\u001b[1;33m(\u001b[0m\u001b[1;36m0\u001b[0m\u001b[1;33m)\u001b[0m\u001b[1;33m/\u001b[0m\u001b[0mnp\u001b[0m\u001b[1;33m.\u001b[0m\u001b[0marray\u001b[0m\u001b[1;33m(\u001b[0m\u001b[1;36m0\u001b[0m\u001b[1;33m)\u001b[0m\u001b[1;33m)\u001b[0m\u001b[1;33m\u001b[0m\u001b[1;33m\u001b[0m\u001b[0m\n\u001b[0;32m      3\u001b[0m \u001b[0mprint\u001b[0m\u001b[1;33m(\u001b[0m\u001b[0mnp\u001b[0m\u001b[1;33m.\u001b[0m\u001b[0marray\u001b[0m\u001b[1;33m(\u001b[0m\u001b[1;36m0\u001b[0m\u001b[1;33m)\u001b[0m\u001b[1;33m//\u001b[0m\u001b[0mnp\u001b[0m\u001b[1;33m.\u001b[0m\u001b[0marray\u001b[0m\u001b[1;33m(\u001b[0m\u001b[1;36m0\u001b[0m\u001b[1;33m)\u001b[0m\u001b[1;33m)\u001b[0m\u001b[1;33m\u001b[0m\u001b[1;33m\u001b[0m\u001b[0m\n\u001b[1;32m----> 4\u001b[1;33m \u001b[0mprint\u001b[0m\u001b[1;33m(\u001b[0m\u001b[0mnp\u001b[0m\u001b[1;33m.\u001b[0m\u001b[0marray\u001b[0m\u001b[1;33m[\u001b[0m\u001b[0mnp\u001b[0m\u001b[1;33m.\u001b[0m\u001b[0mnan\u001b[0m\u001b[1;33m]\u001b[0m\u001b[1;33m)\u001b[0m\u001b[1;33m.\u001b[0m\u001b[0mastype\u001b[0m\u001b[1;33m(\u001b[0m\u001b[0mint\u001b[0m\u001b[1;33m)\u001b[0m\u001b[1;33m.\u001b[0m\u001b[0mastype\u001b[0m\u001b[1;33m(\u001b[0m\u001b[0mfloat\u001b[0m\u001b[1;33m)\u001b[0m\u001b[1;33m\u001b[0m\u001b[1;33m\u001b[0m\u001b[0m\n\u001b[0m",
      "\u001b[1;31mTypeError\u001b[0m: 'builtin_function_or_method' object is not subscriptable"
     ]
    }
   ],
   "source": [
    "#28.\n",
    "print(np.array(0)/np.array(0))\n",
    "print(np.array(0)//np.array(0))\n",
    "print(np.array[np.nan]).astype(int).astype(float)"
   ]
  },
  {
   "cell_type": "code",
   "execution_count": 80,
   "metadata": {},
   "outputs": [
    {
     "name": "stdout",
     "output_type": "stream",
     "text": [
      "[ 9.44066368 -8.82846459 -2.95342445 -4.17684084 -8.48899831 -1.30710266\n",
      "  4.63977388 -3.94315515 -1.87534229  6.12184355]\n",
      "[10. -9. -3. -5. -9. -2.  5. -4. -2.  7.]\n"
     ]
    }
   ],
   "source": [
    "#29.如何从零位对浮点数组做舍入(有点儿复杂)\n",
    "data=np.random.uniform(-10,+10,10)\n",
    "print(data)\n",
    "print(np.copysign(np.ceil(np.abs(data)),data))"
   ]
  },
  {
   "cell_type": "code",
   "execution_count": 82,
   "metadata": {},
   "outputs": [
    {
     "name": "stdout",
     "output_type": "stream",
     "text": [
      "[6 7 8 9]\n"
     ]
    }
   ],
   "source": [
    "#30.找寻两数组中相同地元素\n",
    "data1=np.arange(1,10)\n",
    "data2=np.arange(6,15)\n",
    "data=np.intersect1d(data1,data2)\n",
    "print(data)"
   ]
  },
  {
   "cell_type": "code",
   "execution_count": 83,
   "metadata": {},
   "outputs": [],
   "source": [
    "#31.忽略numpy地所有警告（不建议使用）\n",
    "defaults=np.seterr(all='ignore')\n",
    "data=np.zeros(5)/0\n",
    "_=np.seterr(**defaults)\n",
    "\n",
    "\n"
   ]
  },
  {
   "cell_type": "code",
   "execution_count": 84,
   "metadata": {},
   "outputs": [
    {
     "name": "stdout",
     "output_type": "stream",
     "text": [
      "False\n"
     ]
    },
    {
     "name": "stderr",
     "output_type": "stream",
     "text": [
      "C:\\Users\\hyvto\\Anaconda3\\lib\\site-packages\\ipykernel_launcher.py:2: RuntimeWarning: invalid value encountered in sqrt\n",
      "  \n"
     ]
    }
   ],
   "source": [
    "#32.\n",
    "print(np.sqrt(-1)==np.emath.sqrt(-1))"
   ]
  },
  {
   "cell_type": "code",
   "execution_count": 88,
   "metadata": {},
   "outputs": [
    {
     "name": "stdout",
     "output_type": "stream",
     "text": [
      "yesterday is 2019-08-06\n",
      "toady is 2019-08-07\n",
      "tomorrow is 2019-08-08\n"
     ]
    }
   ],
   "source": [
    "#33.如何得到昨天，今天和明天的日期\n",
    "yesterday=np.datetime64('today','D')-np.timedelta64(1,'D')\n",
    "today=np.datetime64('today','D')\n",
    "tomorrow=np.datetime64('today','D')+np.timedelta64(1,'D')\n",
    "print('yesterday is '+str(yesterday))\n",
    "print('toady is '+str(today))\n",
    "print('tomorrow is '+str(tomorrow))\n"
   ]
  },
  {
   "cell_type": "code",
   "execution_count": 89,
   "metadata": {},
   "outputs": [
    {
     "name": "stdout",
     "output_type": "stream",
     "text": [
      "['2016-07-01' '2016-07-02' '2016-07-03' '2016-07-04' '2016-07-05'\n",
      " '2016-07-06' '2016-07-07' '2016-07-08' '2016-07-09' '2016-07-10'\n",
      " '2016-07-11' '2016-07-12' '2016-07-13' '2016-07-14' '2016-07-15'\n",
      " '2016-07-16' '2016-07-17' '2016-07-18' '2016-07-19' '2016-07-20'\n",
      " '2016-07-21' '2016-07-22' '2016-07-23' '2016-07-24' '2016-07-25'\n",
      " '2016-07-26' '2016-07-27' '2016-07-28' '2016-07-29' '2016-07-30'\n",
      " '2016-07-31']\n"
     ]
    }
   ],
   "source": [
    "#34.如何得到所有与2016年7月相对应的日期\n",
    "data=np.arange('2016-07','2016-08',dtype='datetime64[D]')\n",
    "print(data)"
   ]
  },
  {
   "cell_type": "code",
   "execution_count": 92,
   "metadata": {},
   "outputs": [
    {
     "data": {
      "text/plain": [
       "array([-1.5, -1.5, -1.5])"
      ]
     },
     "execution_count": 92,
     "metadata": {},
     "output_type": "execute_result"
    }
   ],
   "source": [
    "#35.(不太懂)\n",
    "A=np.ones(3)*1\n",
    "B=np.ones(3)*2\n",
    "C=np.ones(3)*3\n",
    "np.add(A,B,out=B)\n",
    "np.divide(A,2,out=A)\n",
    "np.negative(A,out=A)\n",
    "np.multiply(A,B,out=A)"
   ]
  },
  {
   "cell_type": "code",
   "execution_count": 102,
   "metadata": {},
   "outputs": [
    {
     "name": "stdout",
     "output_type": "stream",
     "text": [
      "[4.74448672 6.02543567 4.82131246 6.22181731 9.15608725 6.50188013\n",
      " 4.1838723  6.4924192  7.2245871  7.03283583]\n",
      "[4. 6. 4. 6. 9. 6. 4. 6. 7. 7.]\n",
      "[4. 6. 4. 6. 9. 6. 4. 6. 7. 7.]\n",
      "[4. 6. 4. 6. 9. 6. 4. 6. 7. 7.]\n",
      "[4. 6. 4. 6. 9. 6. 4. 6. 7. 7.]\n",
      "[4 6 4 6 9 6 4 6 7 7]\n"
     ]
    }
   ],
   "source": [
    "#36.5中方法取整\n",
    "data=np.random.uniform(0,10,10)\n",
    "print(data)\n",
    "print(data-data%1)\n",
    "print(np.trunc(data))\n",
    "print(np.floor(data))\n",
    "print(np.ceil(data)-1)\n",
    "print(data.astype(int))"
   ]
  },
  {
   "cell_type": "code",
   "execution_count": 103,
   "metadata": {},
   "outputs": [
    {
     "name": "stdout",
     "output_type": "stream",
     "text": [
      "[[0. 1. 2. 3. 4.]\n",
      " [0. 1. 2. 3. 4.]\n",
      " [0. 1. 2. 3. 4.]\n",
      " [0. 1. 2. 3. 4.]\n",
      " [0. 1. 2. 3. 4.]]\n"
     ]
    }
   ],
   "source": [
    "#37.\n",
    "data=np.zeros((5,5))\n",
    "data+=np.arange(0,5)\n",
    "print(data)"
   ]
  },
  {
   "cell_type": "code",
   "execution_count": 106,
   "metadata": {},
   "outputs": [
    {
     "name": "stdout",
     "output_type": "stream",
     "text": [
      "[0. 1. 2. 3. 4. 5. 6. 7. 8. 9.]\n"
     ]
    }
   ],
   "source": [
    "#38.通过考虑一个可以生成10个整数的函数来构建一个数组\n",
    "def generate():\n",
    "    for x in range(0,10):\n",
    "        yield x\n",
    "data=np.fromiter(generate(),dtype=float,count=-1)\n",
    "print(data)\n"
   ]
  },
  {
   "cell_type": "code",
   "execution_count": 118,
   "metadata": {},
   "outputs": [
    {
     "name": "stdout",
     "output_type": "stream",
     "text": [
      "[0.09090909 0.18181818 0.27272727 0.36363636 0.45454545 0.54545455\n",
      " 0.63636364 0.72727273 0.81818182 0.90909091]\n"
     ]
    }
   ],
   "source": [
    "#39. \n",
    "data=np.linspace(0,1,11,endpoint=False)[1:]\n",
    "print(data)\n"
   ]
  },
  {
   "cell_type": "code",
   "execution_count": 117,
   "metadata": {},
   "outputs": [
    {
     "name": "stdout",
     "output_type": "stream",
     "text": [
      "[0.90366214 0.53182079 0.45162613 0.00764868 0.32316966 0.78769615\n",
      " 0.93363483 0.55792481 0.22962265 0.182664  ]\n",
      "[0.00764868 0.182664   0.22962265 0.32316966 0.45162613 0.53182079\n",
      " 0.55792481 0.78769615 0.90366214 0.93363483]\n"
     ]
    }
   ],
   "source": [
    "#40.\n",
    "data=np.random.random(10)\n",
    "print(data)\n",
    "data.sort()\n",
    "print(data)"
   ]
  },
  {
   "cell_type": "code",
   "execution_count": 119,
   "metadata": {},
   "outputs": [
    {
     "data": {
      "text/plain": [
       "10"
      ]
     },
     "execution_count": 119,
     "metadata": {},
     "output_type": "execute_result"
    }
   ],
   "source": [
    "#41.\n",
    "data=np.arange(5)\n",
    "np.add.reduce(data)"
   ]
  },
  {
   "cell_type": "code",
   "execution_count": 120,
   "metadata": {},
   "outputs": [
    {
     "name": "stdout",
     "output_type": "stream",
     "text": [
      "False\n"
     ]
    }
   ],
   "source": [
    "#42.判断两个随机数组是否相同\n",
    "data1=np.random.random(5)\n",
    "data2=np.random.random(5)\n",
    "equal=np.allclose(data1,data2)\n",
    "print(equal)"
   ]
  },
  {
   "cell_type": "code",
   "execution_count": 122,
   "metadata": {},
   "outputs": [],
   "source": [
    "#43.创建一个只读数组\n",
    "data=np.arange(5)\n",
    "data.flags.writeable=False"
   ]
  },
  {
   "cell_type": "code",
   "execution_count": 123,
   "metadata": {},
   "outputs": [
    {
     "name": "stdout",
     "output_type": "stream",
     "text": [
      "[]\n",
      "1.1071487177940904\n"
     ]
    }
   ],
   "source": [
    "#44.将笛卡尔坐标下的一个据真转化为极坐标形式(不太懂)\n",
    "data=np.random.random((10,2))\n",
    "X,Y=data[:0],data[:1]\n",
    "R=np.sqrt(X**2+Y**2)\n",
    "T=np.arctan(2)\n",
    "print(R)\n",
    "print(T)"
   ]
  },
  {
   "cell_type": "code",
   "execution_count": 126,
   "metadata": {},
   "outputs": [
    {
     "name": "stdout",
     "output_type": "stream",
     "text": [
      "[1 2 3 4 5 6 7 8 0]\n"
     ]
    }
   ],
   "source": [
    "#45.将一数组中的最大值替换为0\n",
    "data=np.arange(1,10)\n",
    "data[data.argmax()]=0\n",
    "print(data)"
   ]
  },
  {
   "cell_type": "code",
   "execution_count": 127,
   "metadata": {},
   "outputs": [
    {
     "name": "stdout",
     "output_type": "stream",
     "text": [
      "[[(0.  , 0.  ) (0.25, 0.  ) (0.5 , 0.  ) (0.75, 0.  ) (1.  , 0.  )]\n",
      " [(0.  , 0.25) (0.25, 0.25) (0.5 , 0.25) (0.75, 0.25) (1.  , 0.25)]\n",
      " [(0.  , 0.5 ) (0.25, 0.5 ) (0.5 , 0.5 ) (0.75, 0.5 ) (1.  , 0.5 )]\n",
      " [(0.  , 0.75) (0.25, 0.75) (0.5 , 0.75) (0.75, 0.75) (1.  , 0.75)]\n",
      " [(0.  , 1.  ) (0.25, 1.  ) (0.5 , 1.  ) (0.75, 1.  ) (1.  , 1.  )]]\n"
     ]
    }
   ],
   "source": [
    "#46.(不懂）)\n",
    "data = np.zeros((5,5), [('x',float),('y',float)])\n",
    "data['x'], data['y'] = np.meshgrid(np.linspace(0,1,5),np.linspace(0,1,5))\n",
    "print(data)"
   ]
  },
  {
   "cell_type": "code",
   "execution_count": 129,
   "metadata": {},
   "outputs": [
    {
     "name": "stdout",
     "output_type": "stream",
     "text": [
      "-131.91659501325745\n"
     ]
    }
   ],
   "source": [
    "#47.\n",
    "data=np.arange(5)\n",
    "data0=data+0.5\n",
    "data1=1.0/np.subtract.outer(data,data0)\n",
    "print(np.linalg.det(data1))"
   ]
  },
  {
   "cell_type": "code",
   "execution_count": 131,
   "metadata": {},
   "outputs": [
    {
     "name": "stdout",
     "output_type": "stream",
     "text": [
      "-128\n",
      "127\n",
      "-2147483648\n",
      "2147483647\n",
      "-9223372036854775808\n",
      "9223372036854775807\n",
      "-3.4028235e+38\n",
      "3.4028235e+38\n",
      "1.1920929e-07\n",
      "-1.7976931348623157e+308\n",
      "1.7976931348623157e+308\n",
      "2.220446049250313e-16\n"
     ]
    }
   ],
   "source": [
    "#48.\n",
    "for dtype in [np.int8,np.int32,np.int64]:\n",
    "    print(np.iinfo(dtype).min)\n",
    "    print(np.iinfo(dtype).max)\n",
    "for dtype in [np.float32,np.float64]:\n",
    "    print(np.finfo(dtype).min)\n",
    "    print(np.finfo(dtype).max)\n",
    "    print(np.finfo(dtype).eps)"
   ]
  },
  {
   "cell_type": "code",
   "execution_count": 132,
   "metadata": {},
   "outputs": [
    {
     "name": "stdout",
     "output_type": "stream",
     "text": [
      "[[0. 0. 0. 0. 0. 0. 0. 0.]\n",
      " [0. 0. 0. 0. 0. 0. 0. 0.]\n",
      " [0. 0. 0. 0. 0. 0. 0. 0.]\n",
      " [0. 0. 0. 0. 0. 0. 0. 0.]\n",
      " [0. 0. 0. 0. 0. 0. 0. 0.]\n",
      " [0. 0. 0. 0. 0. 0. 0. 0.]\n",
      " [0. 0. 0. 0. 0. 0. 0. 0.]\n",
      " [0. 0. 0. 0. 0. 0. 0. 0.]]\n"
     ]
    }
   ],
   "source": [
    "#49.\n",
    "np.set_printoptions(threshold=np.nan)\n",
    "data=np.zeros((8,8))\n",
    "print(data)"
   ]
  },
  {
   "cell_type": "code",
   "execution_count": 135,
   "metadata": {},
   "outputs": [
    {
     "name": "stdout",
     "output_type": "stream",
     "text": [
      "5\n"
     ]
    }
   ],
   "source": [
    "#50.\n",
    "data=np.arange(10)\n",
    "v=np.random.uniform(0,100)\n",
    "index=(np.abs(data-v)).argmin()\n",
    "print(index)\n"
   ]
  },
  {
   "cell_type": "code",
   "execution_count": 136,
   "metadata": {},
   "outputs": [
    {
     "name": "stdout",
     "output_type": "stream",
     "text": [
      "[((0., 0.), (0., 0., 0.)) ((0., 0.), (0., 0., 0.))\n",
      " ((0., 0.), (0., 0., 0.)) ((0., 0.), (0., 0., 0.))\n",
      " ((0., 0.), (0., 0., 0.)) ((0., 0.), (0., 0., 0.))\n",
      " ((0., 0.), (0., 0., 0.)) ((0., 0.), (0., 0., 0.))\n",
      " ((0., 0.), (0., 0., 0.)) ((0., 0.), (0., 0., 0.))]\n"
     ]
    }
   ],
   "source": [
    "#51.\n",
    "data=np.zeros(10,[('position',[('x',float,1),('y',float,1)]),('color',[('r',float,1),('g',float,1),('b',float,1)])])\n",
    "print(data)"
   ]
  },
  {
   "cell_type": "code",
   "execution_count": null,
   "metadata": {},
   "outputs": [],
   "source": []
  }
 ],
 "metadata": {
  "kernelspec": {
   "display_name": "Python 3",
   "language": "python",
   "name": "python3"
  },
  "language_info": {
   "codemirror_mode": {
    "name": "ipython",
    "version": 3
   },
   "file_extension": ".py",
   "mimetype": "text/x-python",
   "name": "python",
   "nbconvert_exporter": "python",
   "pygments_lexer": "ipython3",
   "version": "3.6.8"
  }
 },
 "nbformat": 4,
 "nbformat_minor": 2
}
