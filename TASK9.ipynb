{
 "cells": [
  {
   "cell_type": "code",
   "execution_count": 3,
   "metadata": {},
   "outputs": [
    {
     "name": "stdout",
     "output_type": "stream",
     "text": [
      "2019-08-27 22:45:01.988207\n",
      "27 2019\n"
     ]
    }
   ],
   "source": [
    "########时间序列\n",
    "from datetime import datetime\n",
    "now=datetime.now()\n",
    "print(now)\n",
    "print(now.day,now.year)"
   ]
  },
  {
   "cell_type": "code",
   "execution_count": 5,
   "metadata": {},
   "outputs": [
    {
     "name": "stdout",
     "output_type": "stream",
     "text": [
      "56700\n"
     ]
    }
   ],
   "source": [
    "delta=datetime(2011,1,7)-datetime(2008,6,24,8,15)\n",
    "print(delta.seconds)"
   ]
  },
  {
   "cell_type": "code",
   "execution_count": 6,
   "metadata": {},
   "outputs": [],
   "source": [
    "from datetime import timedelta"
   ]
  },
  {
   "cell_type": "code",
   "execution_count": 7,
   "metadata": {},
   "outputs": [
    {
     "name": "stdout",
     "output_type": "stream",
     "text": [
      "2011-01-19 00:00:00\n"
     ]
    }
   ],
   "source": [
    "start=datetime(2011,1,7)\n",
    "print(start+timedelta(12))"
   ]
  },
  {
   "cell_type": "code",
   "execution_count": 10,
   "metadata": {},
   "outputs": [
    {
     "name": "stdout",
     "output_type": "stream",
     "text": [
      "2011-11-07 00:00:00\n",
      "2011-11-07 00:00:00\n",
      "2011-11-07\n"
     ]
    }
   ],
   "source": [
    "stamp=datetime(2011,11,7)\n",
    "print(stamp)\n",
    "print(str(stamp))\n",
    "print(stamp.strftime('%Y-%m-%d'))"
   ]
  },
  {
   "cell_type": "code",
   "execution_count": 11,
   "metadata": {},
   "outputs": [
    {
     "name": "stdout",
     "output_type": "stream",
     "text": [
      "2011-01-03 00:00:00\n"
     ]
    }
   ],
   "source": [
    "value='2011-01-03'\n",
    "print(datetime.strptime(value,'%Y-%m-%d'))"
   ]
  },
  {
   "cell_type": "code",
   "execution_count": 15,
   "metadata": {},
   "outputs": [
    {
     "name": "stdout",
     "output_type": "stream",
     "text": [
      "2011-01-02   -3.305861\n",
      "2011-01-05   -0.996627\n",
      "2011-01-07    1.000952\n",
      "2011-01-08   -1.333848\n",
      "2011-01-09    0.079138\n",
      "dtype: float64\n"
     ]
    }
   ],
   "source": [
    "###11.2时间序列基础\n",
    "from datetime import datetime\n",
    "import pandas as pd\n",
    "import numpy as np\n",
    "dates=[datetime(2011,1,2),datetime(2011,1,5),datetime(2011,1,7),datetime(2011,1,8),datetime(2011,1,9)\n",
    "      ]\n",
    "ts=pd.Series(np.random.randn(5),index=dates)\n",
    "print(ts)"
   ]
  },
  {
   "cell_type": "code",
   "execution_count": 16,
   "metadata": {},
   "outputs": [
    {
     "data": {
      "text/plain": [
       "DatetimeIndex(['2011-01-02', '2011-01-05', '2011-01-07', '2011-01-08',\n",
       "               '2011-01-09'],\n",
       "              dtype='datetime64[ns]', freq=None)"
      ]
     },
     "execution_count": 16,
     "metadata": {},
     "output_type": "execute_result"
    }
   ],
   "source": [
    "ts.index"
   ]
  },
  {
   "cell_type": "code",
   "execution_count": 17,
   "metadata": {},
   "outputs": [
    {
     "name": "stdout",
     "output_type": "stream",
     "text": [
      "2011-01-02   -3.305861\n",
      "2011-01-07    1.000952\n",
      "2011-01-09    0.079138\n",
      "dtype: float64\n"
     ]
    }
   ],
   "source": [
    "print(ts[::2])"
   ]
  },
  {
   "cell_type": "code",
   "execution_count": 18,
   "metadata": {},
   "outputs": [
    {
     "name": "stdout",
     "output_type": "stream",
     "text": [
      "2011-01-07 00:00:00\n"
     ]
    }
   ],
   "source": [
    "stamp=ts.index[2]\n",
    "print(stamp)"
   ]
  },
  {
   "cell_type": "code",
   "execution_count": 19,
   "metadata": {},
   "outputs": [
    {
     "name": "stdout",
     "output_type": "stream",
     "text": [
      "2000-01-01    0.771633\n",
      "2000-01-02   -0.193298\n",
      "2000-01-03    1.109874\n",
      "2000-01-04    0.501689\n",
      "2000-01-05    1.169247\n",
      "2000-01-06    0.601849\n",
      "2000-01-07    0.154497\n",
      "2000-01-08    0.048672\n",
      "2000-01-09    0.773653\n",
      "2000-01-10   -0.916358\n",
      "2000-01-11    0.021656\n",
      "2000-01-12    0.676483\n",
      "2000-01-13    0.548362\n",
      "2000-01-14    1.044547\n",
      "2000-01-15   -1.801783\n",
      "2000-01-16    0.486840\n",
      "2000-01-17    0.553117\n",
      "2000-01-18   -1.849042\n",
      "2000-01-19   -0.718443\n",
      "2000-01-20   -0.320126\n",
      "2000-01-21   -0.380370\n",
      "2000-01-22   -1.814278\n",
      "2000-01-23   -0.529466\n",
      "2000-01-24   -0.704218\n",
      "2000-01-25    0.419621\n",
      "2000-01-26   -0.050569\n",
      "2000-01-27    0.440039\n",
      "2000-01-28    0.143751\n",
      "2000-01-29    1.790259\n",
      "2000-01-30    0.979244\n",
      "                ...   \n",
      "2002-08-28   -1.512223\n",
      "2002-08-29   -0.978121\n",
      "2002-08-30    1.884589\n",
      "2002-08-31    0.790519\n",
      "2002-09-01    1.096295\n",
      "2002-09-02   -1.103870\n",
      "2002-09-03    0.810359\n",
      "2002-09-04    1.309547\n",
      "2002-09-05    1.593939\n",
      "2002-09-06    0.426595\n",
      "2002-09-07   -0.732017\n",
      "2002-09-08    0.668521\n",
      "2002-09-09    0.510277\n",
      "2002-09-10    1.184428\n",
      "2002-09-11   -0.475646\n",
      "2002-09-12   -0.864189\n",
      "2002-09-13   -1.625804\n",
      "2002-09-14   -0.571382\n",
      "2002-09-15   -0.611067\n",
      "2002-09-16   -0.197143\n",
      "2002-09-17    2.027055\n",
      "2002-09-18   -0.503536\n",
      "2002-09-19    0.250403\n",
      "2002-09-20   -0.903913\n",
      "2002-09-21    0.166222\n",
      "2002-09-22    0.453153\n",
      "2002-09-23    0.562763\n",
      "2002-09-24    1.040392\n",
      "2002-09-25    0.086279\n",
      "2002-09-26   -1.467482\n",
      "Freq: D, Length: 1000, dtype: float64\n"
     ]
    }
   ],
   "source": [
    "longer_ts=pd.Series(np.random.randn(1000),index=pd.date_range('1/1/2000',periods=1000))\n",
    "print(longer_ts)"
   ]
  },
  {
   "cell_type": "code",
   "execution_count": 20,
   "metadata": {},
   "outputs": [
    {
     "data": {
      "text/plain": [
       "2001-05-01    0.739233\n",
       "2001-05-02    0.172868\n",
       "2001-05-03   -1.123663\n",
       "2001-05-04   -1.114011\n",
       "2001-05-05   -1.469963\n",
       "2001-05-06   -1.140762\n",
       "2001-05-07   -0.587602\n",
       "2001-05-08   -0.743630\n",
       "2001-05-09   -0.963419\n",
       "2001-05-10   -0.447886\n",
       "2001-05-11    0.136106\n",
       "2001-05-12   -0.544625\n",
       "2001-05-13   -0.704843\n",
       "2001-05-14    0.450309\n",
       "2001-05-15   -0.930382\n",
       "2001-05-16   -0.751155\n",
       "2001-05-17    0.187686\n",
       "2001-05-18   -0.976906\n",
       "2001-05-19   -1.027980\n",
       "2001-05-20    2.551925\n",
       "2001-05-21    0.829920\n",
       "2001-05-22    0.712203\n",
       "2001-05-23   -0.204400\n",
       "2001-05-24    0.978614\n",
       "2001-05-25    0.521291\n",
       "2001-05-26   -0.245935\n",
       "2001-05-27   -1.093753\n",
       "2001-05-28    0.199211\n",
       "2001-05-29   -1.148668\n",
       "2001-05-30   -1.639398\n",
       "2001-05-31   -1.708518\n",
       "Freq: D, dtype: float64"
      ]
     },
     "execution_count": 20,
     "metadata": {},
     "output_type": "execute_result"
    }
   ],
   "source": [
    "longer_ts['2001-05']   ###类似筛选，选取特定条件下的数据。原句：对于较长的时间序列，只要传入年或月即可轻松选取数据的切片；"
   ]
  },
  {
   "cell_type": "code",
   "execution_count": 21,
   "metadata": {},
   "outputs": [
    {
     "data": {
      "text/plain": [
       "2011-01-07    1.000952\n",
       "2011-01-08   -1.333848\n",
       "2011-01-09    0.079138\n",
       "dtype: float64"
      ]
     },
     "execution_count": 21,
     "metadata": {},
     "output_type": "execute_result"
    }
   ],
   "source": [
    "ts['1/6/2011':'1/11/2011']"
   ]
  },
  {
   "cell_type": "code",
   "execution_count": 22,
   "metadata": {},
   "outputs": [
    {
     "data": {
      "text/plain": [
       "2011-01-02   -3.305861\n",
       "2011-01-05   -0.996627\n",
       "2011-01-07    1.000952\n",
       "2011-01-08   -1.333848\n",
       "2011-01-09    0.079138\n",
       "dtype: float64"
      ]
     },
     "execution_count": 22,
     "metadata": {},
     "output_type": "execute_result"
    }
   ],
   "source": [
    "ts.truncate(after='1/9/2011')"
   ]
  },
  {
   "cell_type": "code",
   "execution_count": 25,
   "metadata": {},
   "outputs": [
    {
     "name": "stdout",
     "output_type": "stream",
     "text": [
      "DatetimeIndexResampler [freq=<Day>, axis=0, closed=left, label=left, convention=start, base=0]\n"
     ]
    }
   ],
   "source": [
    "########11.3日期的范围、频率以及移动\n",
    "ts\n",
    "resampler=ts.resample('D')\n",
    "print(resampler)"
   ]
  },
  {
   "cell_type": "code",
   "execution_count": 26,
   "metadata": {},
   "outputs": [
    {
     "name": "stdout",
     "output_type": "stream",
     "text": [
      "DatetimeIndex(['2012-04-01', '2012-04-02', '2012-04-03', '2012-04-04',\n",
      "               '2012-04-05', '2012-04-06', '2012-04-07', '2012-04-08',\n",
      "               '2012-04-09', '2012-04-10', '2012-04-11', '2012-04-12',\n",
      "               '2012-04-13', '2012-04-14', '2012-04-15', '2012-04-16',\n",
      "               '2012-04-17', '2012-04-18', '2012-04-19', '2012-04-20',\n",
      "               '2012-04-21', '2012-04-22', '2012-04-23', '2012-04-24',\n",
      "               '2012-04-25', '2012-04-26', '2012-04-27', '2012-04-28',\n",
      "               '2012-04-29', '2012-04-30', '2012-05-01', '2012-05-02',\n",
      "               '2012-05-03', '2012-05-04', '2012-05-05', '2012-05-06',\n",
      "               '2012-05-07', '2012-05-08', '2012-05-09', '2012-05-10',\n",
      "               '2012-05-11', '2012-05-12', '2012-05-13', '2012-05-14',\n",
      "               '2012-05-15', '2012-05-16', '2012-05-17', '2012-05-18',\n",
      "               '2012-05-19', '2012-05-20', '2012-05-21', '2012-05-22',\n",
      "               '2012-05-23', '2012-05-24', '2012-05-25', '2012-05-26',\n",
      "               '2012-05-27', '2012-05-28', '2012-05-29', '2012-05-30',\n",
      "               '2012-05-31', '2012-06-01'],\n",
      "              dtype='datetime64[ns]', freq='D')\n"
     ]
    }
   ],
   "source": [
    "index=pd.date_range('2012-04-01','2012-06-01')\n",
    "print(index)"
   ]
  },
  {
   "cell_type": "code",
   "execution_count": 27,
   "metadata": {},
   "outputs": [
    {
     "data": {
      "text/plain": [
       "DatetimeIndex(['2012-05-13', '2012-05-14', '2012-05-15', '2012-05-16',\n",
       "               '2012-05-17', '2012-05-18', '2012-05-19', '2012-05-20',\n",
       "               '2012-05-21', '2012-05-22', '2012-05-23', '2012-05-24',\n",
       "               '2012-05-25', '2012-05-26', '2012-05-27', '2012-05-28',\n",
       "               '2012-05-29', '2012-05-30', '2012-05-31', '2012-06-01'],\n",
       "              dtype='datetime64[ns]', freq='D')"
      ]
     },
     "execution_count": 27,
     "metadata": {},
     "output_type": "execute_result"
    }
   ],
   "source": [
    "pd.date_range(end='2012-06-01',periods=20)"
   ]
  },
  {
   "cell_type": "code",
   "execution_count": 31,
   "metadata": {},
   "outputs": [
    {
     "data": {
      "text/plain": [
       "DatetimeIndex(['2000-01-05', '2000-01-06', '2000-01-07', '2000-01-08',\n",
       "               '2000-01-09', '2000-01-10'],\n",
       "              dtype='datetime64[ns]', freq='D')"
      ]
     },
     "execution_count": 31,
     "metadata": {},
     "output_type": "execute_result"
    }
   ],
   "source": [
    "##频率和日期偏移量\n",
    "from pandas.tseries.offsets import Hour,Minute\n",
    "four_hours=Hour(4)\n",
    "pd.date_range('2000-01-05','2000-01-10 23:59')"
   ]
  },
  {
   "cell_type": "code",
   "execution_count": null,
   "metadata": {},
   "outputs": [],
   "source": []
  }
 ],
 "metadata": {
  "kernelspec": {
   "display_name": "Python 3",
   "language": "python",
   "name": "python3"
  },
  "language_info": {
   "codemirror_mode": {
    "name": "ipython",
    "version": 3
   },
   "file_extension": ".py",
   "mimetype": "text/x-python",
   "name": "python",
   "nbconvert_exporter": "python",
   "pygments_lexer": "ipython3",
   "version": "3.6.8"
  }
 },
 "nbformat": 4,
 "nbformat_minor": 2
}
