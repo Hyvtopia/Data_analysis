{
 "cells": [
  {
   "cell_type": "code",
   "execution_count": 3,
   "metadata": {},
   "outputs": [],
   "source": [
    "###第10章 数据聚合与分组运算\n",
    "import pandas as pd\n",
    "import numpy as np"
   ]
  },
  {
   "cell_type": "code",
   "execution_count": 4,
   "metadata": {},
   "outputs": [
    {
     "data": {
      "text/html": [
       "<div>\n",
       "<style scoped>\n",
       "    .dataframe tbody tr th:only-of-type {\n",
       "        vertical-align: middle;\n",
       "    }\n",
       "\n",
       "    .dataframe tbody tr th {\n",
       "        vertical-align: top;\n",
       "    }\n",
       "\n",
       "    .dataframe thead th {\n",
       "        text-align: right;\n",
       "    }\n",
       "</style>\n",
       "<table border=\"1\" class=\"dataframe\">\n",
       "  <thead>\n",
       "    <tr style=\"text-align: right;\">\n",
       "      <th></th>\n",
       "      <th>key1</th>\n",
       "      <th>key2</th>\n",
       "      <th>data1</th>\n",
       "      <th>data2</th>\n",
       "    </tr>\n",
       "  </thead>\n",
       "  <tbody>\n",
       "    <tr>\n",
       "      <th>0</th>\n",
       "      <td>a</td>\n",
       "      <td>one</td>\n",
       "      <td>-0.585018</td>\n",
       "      <td>0.780340</td>\n",
       "    </tr>\n",
       "    <tr>\n",
       "      <th>1</th>\n",
       "      <td>a</td>\n",
       "      <td>two</td>\n",
       "      <td>0.033574</td>\n",
       "      <td>-0.663611</td>\n",
       "    </tr>\n",
       "    <tr>\n",
       "      <th>2</th>\n",
       "      <td>b</td>\n",
       "      <td>one</td>\n",
       "      <td>1.833275</td>\n",
       "      <td>0.371402</td>\n",
       "    </tr>\n",
       "    <tr>\n",
       "      <th>3</th>\n",
       "      <td>d</td>\n",
       "      <td>two</td>\n",
       "      <td>-0.809772</td>\n",
       "      <td>1.404659</td>\n",
       "    </tr>\n",
       "    <tr>\n",
       "      <th>4</th>\n",
       "      <td>d</td>\n",
       "      <td>one</td>\n",
       "      <td>-1.172281</td>\n",
       "      <td>-0.678995</td>\n",
       "    </tr>\n",
       "  </tbody>\n",
       "</table>\n",
       "</div>"
      ],
      "text/plain": [
       "  key1 key2     data1     data2\n",
       "0    a  one -0.585018  0.780340\n",
       "1    a  two  0.033574 -0.663611\n",
       "2    b  one  1.833275  0.371402\n",
       "3    d  two -0.809772  1.404659\n",
       "4    d  one -1.172281 -0.678995"
      ]
     },
     "execution_count": 4,
     "metadata": {},
     "output_type": "execute_result"
    }
   ],
   "source": [
    "df=pd.DataFrame({'key1':['a','a','b','d','d'],'key2':['one','two','one','two','one'],'data1':np.random.randn(5),'data2':np.random.randn(5)})\n",
    "df"
   ]
  },
  {
   "cell_type": "code",
   "execution_count": 13,
   "metadata": {},
   "outputs": [
    {
     "name": "stdout",
     "output_type": "stream",
     "text": [
      "key1\n",
      "a   -0.275722\n",
      "b    1.833275\n",
      "d   -0.991027\n",
      "Name: data1, dtype: float64\n",
      "key2\n",
      "one    0.157582\n",
      "two    0.370524\n",
      "Name: data2, dtype: float64\n",
      "key2  key1\n",
      "one   a      -0.585018\n",
      "      b       1.833275\n",
      "      d      -1.172281\n",
      "two   a       0.033574\n",
      "      d      -0.809772\n",
      "Name: data1, dtype: float64\n",
      "key1         a         b         d\n",
      "key2                              \n",
      "one  -0.585018  1.833275 -1.172281\n",
      "two   0.033574       NaN -0.809772\n"
     ]
    }
   ],
   "source": [
    "##分组求平均值\n",
    "grouped1=df['data1'].groupby(df['key1']).mean()  ##注：mean()前的内容只是一个groupby对象，它实际上还没有进行任何计算。\n",
    "print(grouped1)\n",
    "grouped2=df['data2'].groupby(df['key2']).mean()\n",
    "print(grouped2)\n",
    "grouped3=df['data1'].groupby([df['key2'],df['key1']]).mean()  ###多个指标分组计算。\n",
    "print(grouped3)\n",
    "print(grouped3.unstack())"
   ]
  },
  {
   "cell_type": "code",
   "execution_count": 22,
   "metadata": {},
   "outputs": [
    {
     "name": "stdout",
     "output_type": "stream",
     "text": [
      "         data1     data2\n",
      "key1                    \n",
      "a    -0.275722  0.058365\n",
      "b     1.833275  0.371402\n",
      "d    -0.991027  0.362832\n"
     ]
    },
    {
     "data": {
      "text/plain": [
       "key1  key2\n",
       "a     one     1\n",
       "      two     1\n",
       "b     one     1\n",
       "d     one     1\n",
       "      two     1\n",
       "dtype: int64"
      ]
     },
     "execution_count": 22,
     "metadata": {},
     "output_type": "execute_result"
    }
   ],
   "source": [
    "states=np.array(['Ohio','California','California','Ohio','Ohio'])\n",
    "states\n",
    "years=np.array([2005,2006,2005,2005,2006])\n",
    "years\n",
    "df['data1'].groupby([states,years]).mean()\n",
    "print(df.groupby('key1').mean())\n",
    "df.groupby(['key1','key2']).mean()\n",
    "df.groupby(['key1','key2']).size()"
   ]
  },
  {
   "cell_type": "code",
   "execution_count": 23,
   "metadata": {},
   "outputs": [
    {
     "name": "stdout",
     "output_type": "stream",
     "text": [
      "a\n",
      "  key1 key2     data1     data2\n",
      "0    a  one -0.585018  0.780340\n",
      "1    a  two  0.033574 -0.663611\n",
      "b\n",
      "  key1 key2     data1     data2\n",
      "2    b  one  1.833275  0.371402\n",
      "d\n",
      "  key1 key2     data1     data2\n",
      "3    d  two -0.809772  1.404659\n",
      "4    d  one -1.172281 -0.678995\n"
     ]
    }
   ],
   "source": [
    "for name,group in df.groupby('key1'):\n",
    "    print(name)\n",
    "    print(group)"
   ]
  },
  {
   "cell_type": "code",
   "execution_count": 26,
   "metadata": {},
   "outputs": [
    {
     "name": "stdout",
     "output_type": "stream",
     "text": [
      "('a', 'one')\n",
      "  key1 key2     data1    data2\n",
      "0    a  one -0.585018  0.78034\n",
      "('a', 'two')\n",
      "  key1 key2     data1     data2\n",
      "1    a  two  0.033574 -0.663611\n",
      "('b', 'one')\n",
      "  key1 key2     data1     data2\n",
      "2    b  one  1.833275  0.371402\n",
      "('d', 'one')\n",
      "  key1 key2     data1     data2\n",
      "4    d  one -1.172281 -0.678995\n",
      "('d', 'two')\n",
      "  key1 key2     data1     data2\n",
      "3    d  two -0.809772  1.404659\n"
     ]
    }
   ],
   "source": [
    "for (k1,k2),group in df.groupby(['key1','key2']):\n",
    "    print((k1,k2))\n",
    "    print(group)"
   ]
  },
  {
   "cell_type": "code",
   "execution_count": 29,
   "metadata": {},
   "outputs": [
    {
     "name": "stdout",
     "output_type": "stream",
     "text": [
      "{'a':   key1 key2     data1     data2\n",
      "0    a  one -0.585018  0.780340\n",
      "1    a  two  0.033574 -0.663611, 'b':   key1 key2     data1     data2\n",
      "2    b  one  1.833275  0.371402, 'd':   key1 key2     data1     data2\n",
      "3    d  two -0.809772  1.404659\n",
      "4    d  one -1.172281 -0.678995}\n"
     ]
    },
    {
     "data": {
      "text/html": [
       "<div>\n",
       "<style scoped>\n",
       "    .dataframe tbody tr th:only-of-type {\n",
       "        vertical-align: middle;\n",
       "    }\n",
       "\n",
       "    .dataframe tbody tr th {\n",
       "        vertical-align: top;\n",
       "    }\n",
       "\n",
       "    .dataframe thead th {\n",
       "        text-align: right;\n",
       "    }\n",
       "</style>\n",
       "<table border=\"1\" class=\"dataframe\">\n",
       "  <thead>\n",
       "    <tr style=\"text-align: right;\">\n",
       "      <th></th>\n",
       "      <th>key1</th>\n",
       "      <th>key2</th>\n",
       "      <th>data1</th>\n",
       "      <th>data2</th>\n",
       "    </tr>\n",
       "  </thead>\n",
       "  <tbody>\n",
       "    <tr>\n",
       "      <th>2</th>\n",
       "      <td>b</td>\n",
       "      <td>one</td>\n",
       "      <td>1.833275</td>\n",
       "      <td>0.371402</td>\n",
       "    </tr>\n",
       "  </tbody>\n",
       "</table>\n",
       "</div>"
      ],
      "text/plain": [
       "  key1 key2     data1     data2\n",
       "2    b  one  1.833275  0.371402"
      ]
     },
     "execution_count": 29,
     "metadata": {},
     "output_type": "execute_result"
    }
   ],
   "source": [
    "pieces=dict(list(df.groupby('key1')))  ###讲数据片段作为一个字典\n",
    "print(pieces)\n",
    "pieces['b']"
   ]
  },
  {
   "cell_type": "code",
   "execution_count": 35,
   "metadata": {},
   "outputs": [
    {
     "name": "stdout",
     "output_type": "stream",
     "text": [
      "float64\n",
      "      data1     data2\n",
      "0 -0.585018  0.780340\n",
      "1  0.033574 -0.663611\n",
      "2  1.833275  0.371402\n",
      "3 -0.809772  1.404659\n",
      "4 -1.172281 -0.678995\n",
      "object\n",
      "  key1 key2\n",
      "0    a  one\n",
      "1    a  two\n",
      "2    b  one\n",
      "3    d  two\n",
      "4    d  one\n"
     ]
    }
   ],
   "source": [
    "####groupby默认是在axis=0上进行分组的，通过设置也可以在其他任何轴上进行分组。比如:我们可以根据dtype对列进行分组。\n",
    "df.dtypes\n",
    "grouped=df.groupby(df.dtypes,axis=1)\n",
    "for dtype,group in grouped:\n",
    "    print(dtype)\n",
    "    print(group)  "
   ]
  },
  {
   "cell_type": "code",
   "execution_count": 45,
   "metadata": {},
   "outputs": [
    {
     "name": "stdout",
     "output_type": "stream",
     "text": [
      "  key1 key2     data1     data2\n",
      "0    a  one -0.585018  0.780340\n",
      "1    a  two  0.033574 -0.663611\n",
      "2    b  one  1.833275  0.371402\n",
      "3    d  two -0.809772  1.404659\n",
      "4    d  one -1.172281 -0.678995\n"
     ]
    },
    {
     "data": {
      "text/html": [
       "<div>\n",
       "<style scoped>\n",
       "    .dataframe tbody tr th:only-of-type {\n",
       "        vertical-align: middle;\n",
       "    }\n",
       "\n",
       "    .dataframe tbody tr th {\n",
       "        vertical-align: top;\n",
       "    }\n",
       "\n",
       "    .dataframe thead th {\n",
       "        text-align: right;\n",
       "    }\n",
       "</style>\n",
       "<table border=\"1\" class=\"dataframe\">\n",
       "  <thead>\n",
       "    <tr style=\"text-align: right;\">\n",
       "      <th></th>\n",
       "      <th></th>\n",
       "      <th>data2</th>\n",
       "    </tr>\n",
       "    <tr>\n",
       "      <th>key1</th>\n",
       "      <th>key2</th>\n",
       "      <th></th>\n",
       "    </tr>\n",
       "  </thead>\n",
       "  <tbody>\n",
       "    <tr>\n",
       "      <th rowspan=\"2\" valign=\"top\">a</th>\n",
       "      <th>one</th>\n",
       "      <td>0.780340</td>\n",
       "    </tr>\n",
       "    <tr>\n",
       "      <th>two</th>\n",
       "      <td>-0.663611</td>\n",
       "    </tr>\n",
       "    <tr>\n",
       "      <th>b</th>\n",
       "      <th>one</th>\n",
       "      <td>0.371402</td>\n",
       "    </tr>\n",
       "    <tr>\n",
       "      <th rowspan=\"2\" valign=\"top\">d</th>\n",
       "      <th>one</th>\n",
       "      <td>-0.678995</td>\n",
       "    </tr>\n",
       "    <tr>\n",
       "      <th>two</th>\n",
       "      <td>1.404659</td>\n",
       "    </tr>\n",
       "  </tbody>\n",
       "</table>\n",
       "</div>"
      ],
      "text/plain": [
       "              data2\n",
       "key1 key2          \n",
       "a    one   0.780340\n",
       "     two  -0.663611\n",
       "b    one   0.371402\n",
       "d    one  -0.678995\n",
       "     two   1.404659"
      ]
     },
     "execution_count": 45,
     "metadata": {},
     "output_type": "execute_result"
    }
   ],
   "source": [
    "print(df)\n",
    "df.groupby('key1')['data1'].mean()\n",
    "df.groupby('key1')[['data2']].mean()\n",
    "df.groupby(['key1','key2'])[['data2']].mean()"
   ]
  },
  {
   "cell_type": "code",
   "execution_count": 58,
   "metadata": {},
   "outputs": [
    {
     "name": "stdout",
     "output_type": "stream",
     "text": [
      "         blue       red\n",
      "hy   1.319440 -0.435684\n",
      "shd  0.707828 -0.433910\n",
      "tyy  0.650694 -0.149923\n",
      "hh   0.551766  1.861718\n",
      "xx  -0.261327 -1.183069\n"
     ]
    }
   ],
   "source": [
    "####通过字典或Series进行分组\n",
    "people=pd.DataFrame(np.random.randn(5,5),columns=['a','b','c','d','e'],index=['hy','shd','tyy','hh','xx'])##numpy.random.randn(d0, d1, …, dn)是从标准正态分布中返回一个或多个样本值。 \n",
    "people\n",
    "##现在可以将下面的字典传给groupby，来构造数组\n",
    "mapping={'a':'red','b':'red','c':'blue','d':'blue','e':'red','f':'orange'}\n",
    "by_column=people.groupby(mapping,axis=1)\n",
    "print(by_column.sum())\n",
    "#for index,rows in people.iterrows():\n",
    "   # print(rows['a'])\n",
    "    \n",
    "####通过函数进行分组：使用函数是一种更原生的方法定义分组映射。任何被当作分组键的函数都会在各个索引值上被调用一次，其返回值就会被当做分组名称。\n"
   ]
  },
  {
   "cell_type": "code",
   "execution_count": 63,
   "metadata": {},
   "outputs": [
    {
     "name": "stdout",
     "output_type": "stream",
     "text": [
      "            a         b         c         d         e\n",
      "hy   0.710044 -0.413829  0.397644  0.921796 -0.731899\n",
      "shd -0.010952 -0.009548  0.977015 -0.269187 -0.413409\n",
      "tyy  1.043700 -0.281592  0.823735 -0.173041 -0.912032\n",
      "hh  -0.602163  2.404890  0.119069  0.432696  0.058991\n",
      "xx   0.331386 -1.436498 -0.955267  0.693940 -0.077957\n"
     ]
    },
    {
     "data": {
      "text/html": [
       "<div>\n",
       "<style scoped>\n",
       "    .dataframe tbody tr th:only-of-type {\n",
       "        vertical-align: middle;\n",
       "    }\n",
       "\n",
       "    .dataframe tbody tr th {\n",
       "        vertical-align: top;\n",
       "    }\n",
       "\n",
       "    .dataframe thead th {\n",
       "        text-align: right;\n",
       "    }\n",
       "</style>\n",
       "<table border=\"1\" class=\"dataframe\">\n",
       "  <thead>\n",
       "    <tr style=\"text-align: right;\">\n",
       "      <th></th>\n",
       "      <th>a</th>\n",
       "      <th>b</th>\n",
       "      <th>c</th>\n",
       "      <th>d</th>\n",
       "      <th>e</th>\n",
       "    </tr>\n",
       "  </thead>\n",
       "  <tbody>\n",
       "    <tr>\n",
       "      <th>2</th>\n",
       "      <td>0.439267</td>\n",
       "      <td>0.554563</td>\n",
       "      <td>-0.438554</td>\n",
       "      <td>2.048432</td>\n",
       "      <td>-0.750865</td>\n",
       "    </tr>\n",
       "    <tr>\n",
       "      <th>3</th>\n",
       "      <td>1.032748</td>\n",
       "      <td>-0.291140</td>\n",
       "      <td>1.800750</td>\n",
       "      <td>-0.442228</td>\n",
       "      <td>-1.325441</td>\n",
       "    </tr>\n",
       "  </tbody>\n",
       "</table>\n",
       "</div>"
      ],
      "text/plain": [
       "          a         b         c         d         e\n",
       "2  0.439267  0.554563 -0.438554  2.048432 -0.750865\n",
       "3  1.032748 -0.291140  1.800750 -0.442228 -1.325441"
      ]
     },
     "execution_count": 63,
     "metadata": {},
     "output_type": "execute_result"
    }
   ],
   "source": [
    "print(people)\n",
    "people.groupby(len).sum()"
   ]
  },
  {
   "cell_type": "code",
   "execution_count": 71,
   "metadata": {},
   "outputs": [
    {
     "data": {
      "text/html": [
       "<div>\n",
       "<style scoped>\n",
       "    .dataframe tbody tr th:only-of-type {\n",
       "        vertical-align: middle;\n",
       "    }\n",
       "\n",
       "    .dataframe tbody tr th {\n",
       "        vertical-align: top;\n",
       "    }\n",
       "\n",
       "    .dataframe thead th {\n",
       "        text-align: right;\n",
       "    }\n",
       "</style>\n",
       "<table border=\"1\" class=\"dataframe\">\n",
       "  <thead>\n",
       "    <tr style=\"text-align: right;\">\n",
       "      <th>0.9</th>\n",
       "      <th>data1</th>\n",
       "      <th>data2</th>\n",
       "    </tr>\n",
       "  </thead>\n",
       "  <tbody>\n",
       "    <tr>\n",
       "      <th>count</th>\n",
       "      <td>3.000000</td>\n",
       "      <td>3.000000</td>\n",
       "    </tr>\n",
       "    <tr>\n",
       "      <th>mean</th>\n",
       "      <td>0.319655</td>\n",
       "      <td>0.734547</td>\n",
       "    </tr>\n",
       "    <tr>\n",
       "      <th>std</th>\n",
       "      <td>1.373119</td>\n",
       "      <td>0.421193</td>\n",
       "    </tr>\n",
       "    <tr>\n",
       "      <th>min</th>\n",
       "      <td>-0.846023</td>\n",
       "      <td>0.371402</td>\n",
       "    </tr>\n",
       "    <tr>\n",
       "      <th>25%</th>\n",
       "      <td>-0.437154</td>\n",
       "      <td>0.503673</td>\n",
       "    </tr>\n",
       "    <tr>\n",
       "      <th>50%</th>\n",
       "      <td>-0.028285</td>\n",
       "      <td>0.635945</td>\n",
       "    </tr>\n",
       "    <tr>\n",
       "      <th>75%</th>\n",
       "      <td>0.902495</td>\n",
       "      <td>0.916119</td>\n",
       "    </tr>\n",
       "    <tr>\n",
       "      <th>max</th>\n",
       "      <td>1.833275</td>\n",
       "      <td>1.196293</td>\n",
       "    </tr>\n",
       "  </tbody>\n",
       "</table>\n",
       "</div>"
      ],
      "text/plain": [
       "0.9       data1     data2\n",
       "count  3.000000  3.000000\n",
       "mean   0.319655  0.734547\n",
       "std    1.373119  0.421193\n",
       "min   -0.846023  0.371402\n",
       "25%   -0.437154  0.503673\n",
       "50%   -0.028285  0.635945\n",
       "75%    0.902495  0.916119\n",
       "max    1.833275  1.196293"
      ]
     },
     "execution_count": 71,
     "metadata": {},
     "output_type": "execute_result"
    }
   ],
   "source": [
    "###10.2数据聚合\n",
    "#聚合指的是任何能够从数组产生标量值的数据转换过程。比如：count,sum,mean,median,std,var,prod....\n",
    "#如果要使用自己的聚合函数，只需要引入aggregate或agg方法即可\n",
    "df\n",
    "grouped=df.groupby('key1').quantile(0.9)\n",
    "grouped\n",
    "grouped.describe()"
   ]
  },
  {
   "cell_type": "code",
   "execution_count": 80,
   "metadata": {},
   "outputs": [
    {
     "data": {
      "text/html": [
       "<div>\n",
       "<style scoped>\n",
       "    .dataframe tbody tr th:only-of-type {\n",
       "        vertical-align: middle;\n",
       "    }\n",
       "\n",
       "    .dataframe tbody tr th {\n",
       "        vertical-align: top;\n",
       "    }\n",
       "\n",
       "    .dataframe thead th {\n",
       "        text-align: right;\n",
       "    }\n",
       "</style>\n",
       "<table border=\"1\" class=\"dataframe\">\n",
       "  <thead>\n",
       "    <tr style=\"text-align: right;\">\n",
       "      <th></th>\n",
       "      <th></th>\n",
       "      <th>count</th>\n",
       "      <th>mean</th>\n",
       "      <th>max</th>\n",
       "    </tr>\n",
       "    <tr>\n",
       "      <th>data1</th>\n",
       "      <th>data2</th>\n",
       "      <th></th>\n",
       "      <th></th>\n",
       "      <th></th>\n",
       "    </tr>\n",
       "  </thead>\n",
       "  <tbody>\n",
       "    <tr>\n",
       "      <th>-1.172281</th>\n",
       "      <th>-0.678995</th>\n",
       "      <td>1</td>\n",
       "      <td>1.726494</td>\n",
       "      <td>1.726494</td>\n",
       "    </tr>\n",
       "    <tr>\n",
       "      <th>-0.809772</th>\n",
       "      <th>1.404659</th>\n",
       "      <td>1</td>\n",
       "      <td>-0.576490</td>\n",
       "      <td>-0.576490</td>\n",
       "    </tr>\n",
       "    <tr>\n",
       "      <th>-0.585018</th>\n",
       "      <th>0.780340</th>\n",
       "      <td>1</td>\n",
       "      <td>-0.749696</td>\n",
       "      <td>-0.749696</td>\n",
       "    </tr>\n",
       "    <tr>\n",
       "      <th>0.033574</th>\n",
       "      <th>-0.663611</th>\n",
       "      <td>1</td>\n",
       "      <td>-0.050594</td>\n",
       "      <td>-0.050594</td>\n",
       "    </tr>\n",
       "    <tr>\n",
       "      <th>1.833275</th>\n",
       "      <th>0.371402</th>\n",
       "      <td>1</td>\n",
       "      <td>4.936096</td>\n",
       "      <td>4.936096</td>\n",
       "    </tr>\n",
       "  </tbody>\n",
       "</table>\n",
       "</div>"
      ],
      "text/plain": [
       "                     count      mean       max\n",
       "data1     data2                               \n",
       "-1.172281 -0.678995      1  1.726494  1.726494\n",
       "-0.809772  1.404659      1 -0.576490 -0.576490\n",
       "-0.585018  0.780340      1 -0.749696 -0.749696\n",
       " 0.033574 -0.663611      1 -0.050594 -0.050594\n",
       " 1.833275  0.371402      1  4.936096  4.936096"
      ]
     },
     "execution_count": 80,
     "metadata": {},
     "output_type": "execute_result"
    }
   ],
   "source": [
    "df\n",
    "df['percentage']=df['data1']/df['data2']\n",
    "df\n",
    "grouped=df.groupby(['data1','data2'])['percentage'].agg(['mean','std'])   ###聚合\n",
    "grouped\n",
    "\n",
    "##下面的这个更为方便\n",
    "function=['count','mean','max']  #定义一个函数\n",
    "grouped1=df.groupby(['data1','data2'])['percentage'].agg(function) \n",
    "grouped2=df.groupby(['data1','data2'],as_index=False)['percentage'].agg(function)\n",
    "grouped1\n",
    "grouped2"
   ]
  },
  {
   "cell_type": "code",
   "execution_count": 84,
   "metadata": {},
   "outputs": [
    {
     "data": {
      "text/html": [
       "<div>\n",
       "<style scoped>\n",
       "    .dataframe tbody tr th:only-of-type {\n",
       "        vertical-align: middle;\n",
       "    }\n",
       "\n",
       "    .dataframe tbody tr th {\n",
       "        vertical-align: top;\n",
       "    }\n",
       "\n",
       "    .dataframe thead th {\n",
       "        text-align: right;\n",
       "    }\n",
       "</style>\n",
       "<table border=\"1\" class=\"dataframe\">\n",
       "  <thead>\n",
       "    <tr style=\"text-align: right;\">\n",
       "      <th></th>\n",
       "      <th></th>\n",
       "      <th>key1</th>\n",
       "      <th>key2</th>\n",
       "      <th>data1</th>\n",
       "      <th>data2</th>\n",
       "      <th>percentage</th>\n",
       "    </tr>\n",
       "    <tr>\n",
       "      <th>key2</th>\n",
       "      <th></th>\n",
       "      <th></th>\n",
       "      <th></th>\n",
       "      <th></th>\n",
       "      <th></th>\n",
       "      <th></th>\n",
       "    </tr>\n",
       "  </thead>\n",
       "  <tbody>\n",
       "    <tr>\n",
       "      <th rowspan=\"2\" valign=\"top\">one</th>\n",
       "      <th>4</th>\n",
       "      <td>d</td>\n",
       "      <td>one</td>\n",
       "      <td>-1.172281</td>\n",
       "      <td>-0.678995</td>\n",
       "      <td>1.726494</td>\n",
       "    </tr>\n",
       "    <tr>\n",
       "      <th>2</th>\n",
       "      <td>b</td>\n",
       "      <td>one</td>\n",
       "      <td>1.833275</td>\n",
       "      <td>0.371402</td>\n",
       "      <td>4.936096</td>\n",
       "    </tr>\n",
       "    <tr>\n",
       "      <th rowspan=\"2\" valign=\"top\">two</th>\n",
       "      <th>3</th>\n",
       "      <td>d</td>\n",
       "      <td>two</td>\n",
       "      <td>-0.809772</td>\n",
       "      <td>1.404659</td>\n",
       "      <td>-0.576490</td>\n",
       "    </tr>\n",
       "    <tr>\n",
       "      <th>1</th>\n",
       "      <td>a</td>\n",
       "      <td>two</td>\n",
       "      <td>0.033574</td>\n",
       "      <td>-0.663611</td>\n",
       "      <td>-0.050594</td>\n",
       "    </tr>\n",
       "  </tbody>\n",
       "</table>\n",
       "</div>"
      ],
      "text/plain": [
       "       key1 key2     data1     data2  percentage\n",
       "key2                                            \n",
       "one  4    d  one -1.172281 -0.678995    1.726494\n",
       "     2    b  one  1.833275  0.371402    4.936096\n",
       "two  3    d  two -0.809772  1.404659   -0.576490\n",
       "     1    a  two  0.033574 -0.663611   -0.050594"
      ]
     },
     "execution_count": 84,
     "metadata": {},
     "output_type": "execute_result"
    }
   ],
   "source": [
    "###10.3apply：一般性的“拆分-应用-合并”\n",
    "##假如你想选出最高的5个percentage值，首先，编写一个选取指定列具有最大值的行的函数\n",
    "def top(df,n=2,column='percentage'):\n",
    "    return df.sort_values(by=column)[-n:]\n",
    "\n",
    "top(df,n=5)\n",
    "df.groupby('key2').apply(top)"
   ]
  },
  {
   "cell_type": "code",
   "execution_count": 94,
   "metadata": {},
   "outputs": [
    {
     "data": {
      "text/html": [
       "<div>\n",
       "<style scoped>\n",
       "    .dataframe tbody tr th:only-of-type {\n",
       "        vertical-align: middle;\n",
       "    }\n",
       "\n",
       "    .dataframe tbody tr th {\n",
       "        vertical-align: top;\n",
       "    }\n",
       "\n",
       "    .dataframe thead th {\n",
       "        text-align: right;\n",
       "    }\n",
       "</style>\n",
       "<table border=\"1\" class=\"dataframe\">\n",
       "  <thead>\n",
       "    <tr style=\"text-align: right;\">\n",
       "      <th></th>\n",
       "      <th>max</th>\n",
       "      <th>mean</th>\n",
       "      <th>min</th>\n",
       "    </tr>\n",
       "    <tr>\n",
       "      <th>data1</th>\n",
       "      <th></th>\n",
       "      <th></th>\n",
       "      <th></th>\n",
       "    </tr>\n",
       "  </thead>\n",
       "  <tbody>\n",
       "    <tr>\n",
       "      <th>(-3.336, -1.753]</th>\n",
       "      <td>2.572873</td>\n",
       "      <td>-0.047038</td>\n",
       "      <td>-2.159787</td>\n",
       "    </tr>\n",
       "    <tr>\n",
       "      <th>(-1.753, -0.176]</th>\n",
       "      <td>3.177792</td>\n",
       "      <td>0.108653</td>\n",
       "      <td>-2.699609</td>\n",
       "    </tr>\n",
       "    <tr>\n",
       "      <th>(-0.176, 1.401]</th>\n",
       "      <td>2.757020</td>\n",
       "      <td>0.018649</td>\n",
       "      <td>-2.707096</td>\n",
       "    </tr>\n",
       "    <tr>\n",
       "      <th>(1.401, 2.978]</th>\n",
       "      <td>3.034390</td>\n",
       "      <td>-0.162252</td>\n",
       "      <td>-3.113636</td>\n",
       "    </tr>\n",
       "  </tbody>\n",
       "</table>\n",
       "</div>"
      ],
      "text/plain": [
       "                       max      mean       min\n",
       "data1                                         \n",
       "(-3.336, -1.753]  2.572873 -0.047038 -2.159787\n",
       "(-1.753, -0.176]  3.177792  0.108653 -2.699609\n",
       "(-0.176, 1.401]   2.757020  0.018649 -2.707096\n",
       "(1.401, 2.978]    3.034390 -0.162252 -3.113636"
      ]
     },
     "execution_count": 94,
     "metadata": {},
     "output_type": "execute_result"
    }
   ],
   "source": [
    "######重点：分位数和桶分析\n",
    "##bucket和quantile\n",
    "frame=pd.DataFrame({'data1':np.random.randn(1000),'data2':np.random.randn(1000)})\n",
    "frame\n",
    "quartiles=pd.cut(frame.data1,4)  ###分为4个区间\n",
    "quartiles[:10]\n",
    "#由cut返回的quartile对象可直接传递给groupby。\n",
    "def get_stats(group):\n",
    "    return {'min':group.min(),'max':group.max(),'mean':group.mean()}\n",
    "data1=frame.data2.groupby(quartiles).apply(get_stats).unstack()  #########很好用诶，重点重点\n",
    "data1"
   ]
  },
  {
   "cell_type": "code",
   "execution_count": 99,
   "metadata": {},
   "outputs": [
    {
     "data": {
      "text/plain": [
       "0   -0.945872\n",
       "1   -1.685602\n",
       "2   -0.945872\n",
       "3   -1.452244\n",
       "4   -0.945872\n",
       "5    0.300229\n",
       "dtype: float64"
      ]
     },
     "execution_count": 99,
     "metadata": {},
     "output_type": "execute_result"
    }
   ],
   "source": [
    "#######对于缺失数据的清理工作，有时你会用dropna将其替换掉，而有时则可能希望用一个固定值或由数据集本身所衍生出来的值去填充NA值。\n",
    "#####这时就得用fillna这个工具了\n",
    "##下面我们用平均值去填充NA值\n",
    "s=pd.Series(np.random.randn(6))\n",
    "s[::2]=np.nan\n",
    "s.fillna(s.mean())"
   ]
  },
  {
   "cell_type": "code",
   "execution_count": 103,
   "metadata": {},
   "outputs": [
    {
     "name": "stdout",
     "output_type": "stream",
     "text": [
      "  key1 key2     data1     data2  percentage\n",
      "0    a  one -0.585018  0.780340   -0.749696\n",
      "1    a  two  0.033574 -0.663611   -0.050594\n",
      "2    b  one  1.833275  0.371402    4.936096\n",
      "3    d  two -0.809772  1.404659   -0.576490\n",
      "4    d  one -1.172281 -0.678995    1.726494\n",
      "              data1     data2  percentage\n",
      "key1 key2                                \n",
      "a    one  -0.585018  0.780340   -0.749696\n",
      "     two   0.033574 -0.663611   -0.050594\n",
      "b    one   1.833275  0.371402    4.936096\n",
      "d    one  -1.172281 -0.678995    1.726494\n",
      "     two  -0.809772  1.404659   -0.576490\n",
      "              data1     data2  percentage\n",
      "key1 key2                                \n",
      "a    one  -0.585018  0.780340   -0.749696\n",
      "     two   0.033574 -0.663611   -0.050594\n",
      "b    one   1.833275  0.371402    4.936096\n",
      "d    one  -1.172281 -0.678995    1.726494\n",
      "     two  -0.809772  1.404659   -0.576490\n"
     ]
    }
   ],
   "source": [
    "#######10.4透视表和交叉表(pivot table)  其是根据一个键或者多个键对数据进行聚合，并根据行和列上的分组键将数据分配到各个矩形区域中。\n",
    "#####DF中有一个pivot_table方法，此外还有一个顶级的pandas.pivot_table函数。\n",
    "print(df)\n",
    "print(df.groupby(['key1','key2']).mean())\n",
    "print(df.pivot_table(index=['key1','key2']))   #从这里可以看出来groupby和pivot table是达到一个目的的两条路而已\n"
   ]
  },
  {
   "cell_type": "code",
   "execution_count": null,
   "metadata": {},
   "outputs": [],
   "source": []
  }
 ],
 "metadata": {
  "kernelspec": {
   "display_name": "Python 3",
   "language": "python",
   "name": "python3"
  },
  "language_info": {
   "codemirror_mode": {
    "name": "ipython",
    "version": 3
   },
   "file_extension": ".py",
   "mimetype": "text/x-python",
   "name": "python",
   "nbconvert_exporter": "python",
   "pygments_lexer": "ipython3",
   "version": "3.6.8"
  }
 },
 "nbformat": 4,
 "nbformat_minor": 2
}
