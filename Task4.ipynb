{
 "cells": [
  {
   "cell_type": "code",
   "execution_count": 1,
   "metadata": {},
   "outputs": [],
   "source": [
    "import pandas as pd\n",
    "import numpy as np"
   ]
  },
  {
   "cell_type": "code",
   "execution_count": 4,
   "metadata": {},
   "outputs": [
    {
     "name": "stdout",
     "output_type": "stream",
     "text": [
      "0     HY\n",
      "1    SHD\n",
      "2    TYY\n",
      "3    NaN\n",
      "dtype: object\n",
      "0    False\n",
      "1    False\n",
      "2    False\n",
      "3     True\n",
      "dtype: bool\n"
     ]
    }
   ],
   "source": [
    "string_data=pd.Series(['HY','SHD','TYY',np.nan])\n",
    "print(string_data)\n",
    "print(string_data.isnull())"
   ]
  },
  {
   "cell_type": "code",
   "execution_count": 8,
   "metadata": {},
   "outputs": [
    {
     "name": "stdout",
     "output_type": "stream",
     "text": [
      "0    1.0\n",
      "1    3.5\n",
      "2    NaN\n",
      "3    7.0\n",
      "dtype: float64\n",
      "0    1.0\n",
      "1    3.5\n",
      "3    7.0\n",
      "dtype: float64\n",
      "0    1.0\n",
      "1    3.5\n",
      "3    7.0\n",
      "dtype: float64\n"
     ]
    }
   ],
   "source": [
    "####数组中的数据缺失值\n",
    "from numpy import nan as NA\n",
    "data=pd.Series([1,3.5,NA,7])\n",
    "print(data)\n",
    "data_notnull=data.dropna()\n",
    "data_=data[data.notnull()]\n",
    "print(data_notnull)\n",
    "print(data_)"
   ]
  },
  {
   "cell_type": "code",
   "execution_count": 13,
   "metadata": {},
   "outputs": [
    {
     "name": "stdout",
     "output_type": "stream",
     "text": [
      "     0    1    2    3\n",
      "0  1.0  2.0  4.0  NaN\n",
      "1  2.0  3.5  3.8  2.3\n",
      "2  NaN  NaN  1.4  2.0\n",
      "     0    1    2    3\n",
      "1  2.0  3.5  3.8  2.3\n",
      "     2\n",
      "0  4.0\n",
      "1  3.8\n",
      "2  1.4\n",
      "     0    1    2    3\n",
      "0  1.0  2.0  4.0  NaN\n",
      "1  2.0  3.5  3.8  2.3\n",
      "2  NaN  NaN  1.4  2.0\n",
      "     0    1    2    3   4\n",
      "0  1.0  2.0  4.0  NaN NaN\n",
      "1  2.0  3.5  3.8  2.3 NaN\n",
      "2  NaN  NaN  1.4  2.0 NaN\n"
     ]
    }
   ],
   "source": [
    "####Dataframe中的dropna默认去掉含有缺失值的行\n",
    "data=pd.DataFrame([[1.,2.,4.,NA],[2.,3.5,3.8,2.3],[NA,NA,1.4,2.]])\n",
    "print(data)\n",
    "data_=data.dropna()\n",
    "print(data_)\n",
    "data_=data.dropna(axis=1)   ##去掉含空值的列\n",
    "print(data_)\n",
    "data_=data.dropna(how='all')  ##how='all'将只丢弃全为NA的那些行\n",
    "print(data_)\n",
    "data[4]=NA\n",
    "print(data)"
   ]
  },
  {
   "cell_type": "code",
   "execution_count": 30,
   "metadata": {},
   "outputs": [
    {
     "name": "stdout",
     "output_type": "stream",
     "text": [
      "          0         1         2\n",
      "0 -2.401567  0.500000 -0.561173\n",
      "1 -0.458906  0.500000  0.523892\n",
      "2  0.628491  0.825728 -0.198167\n",
      "3 -0.669035 -0.380065 -0.498422\n",
      "4 -0.810017 -2.583806  4.000000\n",
      "5 -0.234576  0.769076  4.000000\n",
      "6  0.272793 -0.598800  4.000000\n",
      "          0         1         2\n",
      "0 -2.401567       NaN -0.561173\n",
      "1 -0.458906       NaN  0.523892\n",
      "2  0.628491  0.825728 -0.198167\n",
      "3 -0.669035 -0.380065 -0.498422\n",
      "4 -0.810017 -2.583806 -0.498422\n",
      "5 -0.234576  0.769076 -0.498422\n",
      "6  0.272793 -0.598800 -0.498422\n",
      "          0         1         2\n",
      "0 -2.401567       NaN -0.561173\n",
      "1 -0.458906       NaN  0.523892\n",
      "2  0.628491  0.825728 -0.198167\n",
      "3 -0.669035 -0.380065 -0.498422\n",
      "4 -0.810017 -2.583806 -0.498422\n",
      "5 -0.234576  0.769076 -0.498422\n",
      "6  0.272793 -0.598800       NaN\n",
      "0    1.0\n",
      "1    2.0\n",
      "2    NaN\n",
      "3    3.5\n",
      "4    NaN\n",
      "5    NaN\n",
      "dtype: float64\n",
      "0    1.000000\n",
      "1    2.000000\n",
      "2    2.166667\n",
      "3    3.500000\n",
      "4    2.166667\n",
      "5    2.166667\n",
      "dtype: float64\n"
     ]
    }
   ],
   "source": [
    "####另一个滤除DataFrame行的问题涉及时间序列问题。\n",
    "df=pd.DataFrame(np.random.randn(7,3))\n",
    "df.iloc[:2,1]=NA\n",
    "df.iloc[4:,2]=NA\n",
    "df\n",
    "#****fillna方法是最主要的函数，通过一个常数调用fillna将会将缺失值替换为那个常数值\n",
    "df0_=df.fillna(0)\n",
    "df0_=df.fillna({1:0.5,2:4})\n",
    "print(df0_)\n",
    "df1_=df.fillna(method='ffill') ##ffill,如果首行为时候无法填补空值???(前向填补？)\n",
    "print(df1_)\n",
    "df1_=df.fillna(method='ffill',limit=2)\n",
    "print(df1_)\n",
    "##只要用创新，可以利用fillna实现许多别的功能。比如可以传入series的平均值或中值\n",
    "data=pd.Series([1,2,NA,3.5,NA,NA])\n",
    "print(data)\n",
    "data_=data.fillna(data.mean())\n",
    "print(data_)\n",
    "\n"
   ]
  },
  {
   "cell_type": "code",
   "execution_count": 31,
   "metadata": {},
   "outputs": [],
   "source": [
    "#7.2 数据转换"
   ]
  },
  {
   "cell_type": "code",
   "execution_count": 36,
   "metadata": {},
   "outputs": [
    {
     "name": "stdout",
     "output_type": "stream",
     "text": [
      "    k1  k2\n",
      "0  one   1\n",
      "1  two   1\n",
      "2  one   2\n",
      "3  two   3\n",
      "4  one   3\n",
      "5  two   4\n",
      "6  two   4\n",
      "    k1  k2\n",
      "0  one   1\n",
      "1  two   1\n",
      "2  one   2\n",
      "3  two   3\n",
      "4  one   3\n",
      "6  two   4\n"
     ]
    }
   ],
   "source": [
    "###移除重复数据\n",
    "data=pd.DataFrame({'k1':['one','two']*3+['two'],'k2':[1,1,2,3,3,4,4]})\n",
    "print(data)\n",
    "data_=data.drop_duplicates(['k1','k2'],keep='last')\n",
    "print(data_)"
   ]
  },
  {
   "cell_type": "code",
   "execution_count": 43,
   "metadata": {},
   "outputs": [
    {
     "name": "stdout",
     "output_type": "stream",
     "text": [
      "  name  year\n",
      "0   hy    24\n",
      "1  shd    23\n",
      "2  tyy    22\n",
      "{'hy': 'Shandong', 'shd': 'Anhui', 'tyy': 'Liaoning'}\n",
      "  name  year  province\n",
      "0   hy    24  Shandong\n",
      "1  shd    23     Anhui\n",
      "2  tyy    22  Liaoning\n"
     ]
    }
   ],
   "source": [
    "####数据的映射。map可以接受一个函数或含有映射关系的字典对象。\n",
    "data=pd.DataFrame({'name':['hy','shd','tyy'],'year':[24,23,22]})\n",
    "print(data)\n",
    "province={'hy':'Shandong','shd':'Anhui','tyy':'Liaoning'}\n",
    "print(grade)\n",
    "name=data['name']\n",
    "data['province']=name.map(province)###i think it's important.\n",
    "print(data)\n"
   ]
  },
  {
   "cell_type": "code",
   "execution_count": 47,
   "metadata": {},
   "outputs": [
    {
     "name": "stdout",
     "output_type": "stream",
     "text": [
      "0      1.0\n",
      "1     99.0\n",
      "2      3.4\n",
      "3   -999.0\n",
      "4     -3.0\n",
      "dtype: float64\n",
      "0     1.0\n",
      "1    99.0\n",
      "2     3.4\n",
      "3     NaN\n",
      "4    -3.0\n",
      "dtype: float64\n",
      "0     1.0\n",
      "1    99.0\n",
      "2     3.4\n",
      "3     NaN\n",
      "4     3.0\n",
      "dtype: float64\n",
      "0     1.0\n",
      "1    99.0\n",
      "2     3.4\n",
      "3     NaN\n",
      "4     3.0\n",
      "dtype: float64\n"
     ]
    }
   ],
   "source": [
    "###替换值\n",
    "data=pd.Series([1.,99.,3.4,-999,-3])  ###-999有可能为缺失值\n",
    "print(data)\n",
    "data_=data.replace(-999,np.nan)\n",
    "print(data_)\n",
    "data_=data.replace([-999,-3],[np.nan,3])  ###让每个值有不同的替换值，可以传递一个替换列表\n",
    "print(data_)\n",
    "data_=data.replace({-999:np.nan,-3:3}) ###让每个值有不同的替换值，传入的参数也可以是字典\n",
    "print(data_)"
   ]
  },
  {
   "cell_type": "code",
   "execution_count": 62,
   "metadata": {},
   "outputs": [
    {
     "name": "stdout",
     "output_type": "stream",
     "text": [
      "          one  two  three  four\n",
      "Ohio        0    1      2     3\n",
      "Colorado    4    5      6     7\n",
      "NewYork     8    9     10    11\n",
      "Index(['OHIO', 'COLO', 'NEWY'], dtype='object')\n",
      "      one  two  three  four\n",
      "OHIO    0    1      2     3\n",
      "COLO    4    5      6     7\n",
      "NEWY    8    9     10    11\n",
      "      ONE  TWO  THREE  FOUR\n",
      "Ohio    0    1      2     3\n",
      "Colo    4    5      6     7\n",
      "Newy    8    9     10    11\n"
     ]
    }
   ],
   "source": [
    "###重命名轴索引\n",
    "data=pd.DataFrame(np.arange(12).reshape((3,4)),index=['Ohio','Colorado','NewYork'],columns=['one','two','three','four'])\n",
    "print(data)\n",
    "transform=lambda x: x[:4].upper()\n",
    "data_=data.index.map(transform)\n",
    "print(data_)\n",
    "data.index=data.index.map(transform)##将值赋给Index\n",
    "print(data)\n",
    "data0=data.rename(index=str.title,columns=str.upper)  ###rename的使用方法之一\n",
    "print(data0)"
   ]
  },
  {
   "cell_type": "code",
   "execution_count": 72,
   "metadata": {},
   "outputs": [
    {
     "name": "stdout",
     "output_type": "stream",
     "text": [
      "[(18, 25], (18, 25], (18, 25], (25, 35], (25, 35], ..., (25, 35], (35, 60], (35, 60], (60, 100], (60, 100]]\n",
      "Length: 14\n",
      "Categories (4, interval[int64]): [(18, 25] < (25, 35] < (35, 60] < (60, 100]]\n",
      "(25, 35]     7\n",
      "(18, 25]     3\n",
      "(60, 100]    2\n",
      "(35, 60]     2\n",
      "dtype: int64\n",
      "[[18, 25), [18, 25), [18, 25), [25, 35), [25, 35), ..., [25, 35), [35, 60), [35, 60), [60, 100), [60, 100)]\n",
      "Length: 14\n",
      "Categories (4, interval[int64]): [[18, 25) < [25, 35) < [35, 60) < [60, 100)]\n",
      "[youth, youth, youth, youghadult, youghadult, ..., youghadult, middleaged, middleaged, senior, senior]\n",
      "Length: 14\n",
      "Categories (4, object): [youth < youghadult < middleaged < senior]\n",
      "[(0.72, 0.95], (0.0035, 0.24], (0.24, 0.48], (0.0035, 0.24], (0.72, 0.95], ..., (0.72, 0.95], (0.72, 0.95], (0.72, 0.95], (0.48, 0.72], (0.24, 0.48]]\n",
      "Length: 20\n",
      "Categories (4, interval[float64]): [(0.0035, 0.24] < (0.24, 0.48] < (0.48, 0.72] < (0.72, 0.95]]\n",
      "[(0.558, 0.817], (0.227, 0.558], (0.227, 0.558], (0.0034400000000000003, 0.227], (0.817, 0.953], ..., (0.817, 0.953], (0.558, 0.817], (0.817, 0.953], (0.558, 0.817], (0.227, 0.558]]\n",
      "Length: 20\n",
      "Categories (4, interval[float64]): [(0.0034400000000000003, 0.227] < (0.227, 0.558] < (0.558, 0.817] < (0.817, 0.953]]\n",
      "(0.72, 0.95]      7\n",
      "(0.0035, 0.24]    6\n",
      "(0.48, 0.72]      4\n",
      "(0.24, 0.48]      3\n",
      "dtype: int64\n",
      "(0.817, 0.953]                    5\n",
      "(0.558, 0.817]                    5\n",
      "(0.227, 0.558]                    5\n",
      "(0.0034400000000000003, 0.227]    5\n",
      "dtype: int64\n"
     ]
    }
   ],
   "source": [
    "####离散化和面元划分（为了方便分析，连续数据常常被离散化或拆分为面元 bin)\n",
    "ages=[20,23,24,26,27,28,30,31,35,27,39,42,61,89]  ##将数据划分为“18到25”，“26到35”，“35到60”以及“60以上”几个面元\n",
    "bins=[18,25,35,60,100]\n",
    "cats=pd.cut(ages,bins)\n",
    "print(cats)  ##返回的是categorical对象，结果展示了pandas.cut划分的面元\n",
    "print(pd.value_counts(cats))\n",
    "####对于面元的那面是开区间，那面是闭区间可以通过right=False进行修改\n",
    "cats2=pd.cut(ages,bins,right=False)\n",
    "print(cats2)\n",
    "group_names=['youth','youghadult','middleaged','senior']\n",
    "cats3=pd.cut(ages,bins,labels=group_names)###可以传递一个列表或数组到labels，设置自己的面元名称\n",
    "print(cats3)\n",
    "\n",
    "###如果向cut中传入的是面元的数量而不是确切的面元边界，则塔会根据数据的最大值和最小值计算等长面元。\n",
    "data=np.random.rand(20)\n",
    "cats4=pd.cut(data,4,precision=2)\n",
    "print(cats4)\n",
    "cats5=pd.qcut(data,4)  ###qcut根据样本分位数对数据进行面元划分，因此可以得到大小基本相等的面元。\n",
    "print(cats5)\n",
    "print(pd.value_counts(cats4))\n",
    "print(pd.value_counts(cats5))"
   ]
  },
  {
   "cell_type": "code",
   "execution_count": 75,
   "metadata": {},
   "outputs": [
    {
     "name": "stdout",
     "output_type": "stream",
     "text": [
      "37     3.056983\n",
      "97    -3.245128\n",
      "118    3.150517\n",
      "194   -3.836528\n",
      "Name: 2, dtype: float64\n"
     ]
    }
   ],
   "source": [
    "###检测和过滤异常值\n",
    "data=pd.DataFrame(np.random.randn(1000,4))\n",
    "data.describe()\n",
    "col=data[2]\n",
    "data1=col[np.abs(col)>3]\n",
    "print(data1)"
   ]
  },
  {
   "cell_type": "code",
   "execution_count": 76,
   "metadata": {},
   "outputs": [
    {
     "name": "stdout",
     "output_type": "stream",
     "text": [
      "    0   1   2   3\n",
      "0   0   1   2   3\n",
      "1   4   5   6   7\n",
      "2   8   9  10  11\n",
      "3  12  13  14  15\n",
      "4  16  17  18  19\n"
     ]
    }
   ],
   "source": [
    "###排列和随机采样\n",
    "df=pd.DataFrame(np.arange(5*4).reshape((5,4)))\n",
    "print(df)\n",
    "sampler=np.random.permutation(5)\n"
   ]
  },
  {
   "cell_type": "code",
   "execution_count": 79,
   "metadata": {},
   "outputs": [
    {
     "data": {
      "text/html": [
       "<div>\n",
       "<style scoped>\n",
       "    .dataframe tbody tr th:only-of-type {\n",
       "        vertical-align: middle;\n",
       "    }\n",
       "\n",
       "    .dataframe tbody tr th {\n",
       "        vertical-align: top;\n",
       "    }\n",
       "\n",
       "    .dataframe thead th {\n",
       "        text-align: right;\n",
       "    }\n",
       "</style>\n",
       "<table border=\"1\" class=\"dataframe\">\n",
       "  <thead>\n",
       "    <tr style=\"text-align: right;\">\n",
       "      <th></th>\n",
       "      <th>key</th>\n",
       "      <th>data1</th>\n",
       "    </tr>\n",
       "  </thead>\n",
       "  <tbody>\n",
       "    <tr>\n",
       "      <th>0</th>\n",
       "      <td>b</td>\n",
       "      <td>0</td>\n",
       "    </tr>\n",
       "    <tr>\n",
       "      <th>1</th>\n",
       "      <td>b</td>\n",
       "      <td>1</td>\n",
       "    </tr>\n",
       "    <tr>\n",
       "      <th>2</th>\n",
       "      <td>a</td>\n",
       "      <td>2</td>\n",
       "    </tr>\n",
       "    <tr>\n",
       "      <th>3</th>\n",
       "      <td>c</td>\n",
       "      <td>3</td>\n",
       "    </tr>\n",
       "  </tbody>\n",
       "</table>\n",
       "</div>"
      ],
      "text/plain": [
       "  key  data1\n",
       "0   b      0\n",
       "1   b      1\n",
       "2   a      2\n",
       "3   c      3"
      ]
     },
     "execution_count": 79,
     "metadata": {},
     "output_type": "execute_result"
    }
   ],
   "source": [
    "###计算指标/哑变量\n",
    "df=pd.DataFrame({'key':['b','b','a','c'],'data1':range(4)})\n",
    "pd.get_dummies(df['key'])\n",
    "df"
   ]
  },
  {
   "cell_type": "code",
   "execution_count": 82,
   "metadata": {},
   "outputs": [
    {
     "data": {
      "text/plain": [
       "'a::b:: guido'"
      ]
     },
     "execution_count": 82,
     "metadata": {},
     "output_type": "execute_result"
    }
   ],
   "source": [
    "val='a,b, guido'\n",
    "val.split(',')\n",
    "pieces=[x.strip() for x in val.split(',')]\n",
    "pieces\n",
    "val.replace(',','::')"
   ]
  },
  {
   "cell_type": "code",
   "execution_count": null,
   "metadata": {},
   "outputs": [],
   "source": []
  }
 ],
 "metadata": {
  "kernelspec": {
   "display_name": "Python 3",
   "language": "python",
   "name": "python3"
  },
  "language_info": {
   "codemirror_mode": {
    "name": "ipython",
    "version": 3
   },
   "file_extension": ".py",
   "mimetype": "text/x-python",
   "name": "python",
   "nbconvert_exporter": "python",
   "pygments_lexer": "ipython3",
   "version": "3.6.8"
  }
 },
 "nbformat": 4,
 "nbformat_minor": 2
}
