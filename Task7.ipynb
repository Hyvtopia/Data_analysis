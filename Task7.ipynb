{
 "cells": [
  {
   "cell_type": "code",
   "execution_count": 2,
   "metadata": {},
   "outputs": [],
   "source": [
    "import pandas as pd\n",
    "import numpy as np"
   ]
  },
  {
   "cell_type": "code",
   "execution_count": 3,
   "metadata": {},
   "outputs": [
    {
     "data": {
      "text/plain": [
       "0     apple\n",
       "1    banana\n",
       "2     apple\n",
       "3     apple\n",
       "4     apple\n",
       "5    banana\n",
       "6     apple\n",
       "7     apple\n",
       "dtype: object"
      ]
     },
     "execution_count": 3,
     "metadata": {},
     "output_type": "execute_result"
    }
   ],
   "source": [
    "values=pd.Series(['apple','banana','apple','apple']*2)\n",
    "values"
   ]
  },
  {
   "cell_type": "code",
   "execution_count": 5,
   "metadata": {},
   "outputs": [
    {
     "data": {
      "text/plain": [
       "apple     6\n",
       "banana    2\n",
       "dtype: int64"
      ]
     },
     "execution_count": 5,
     "metadata": {},
     "output_type": "execute_result"
    }
   ],
   "source": [
    "pd.unique(values)\n",
    "pd.value_counts(values)"
   ]
  },
  {
   "cell_type": "code",
   "execution_count": 14,
   "metadata": {},
   "outputs": [
    {
     "data": {
      "text/plain": [
       "0     apple\n",
       "1    banana\n",
       "0     apple\n",
       "0     apple\n",
       "0     apple\n",
       "1    banana\n",
       "0     apple\n",
       "0     apple\n",
       "dtype: object"
      ]
     },
     "execution_count": 14,
     "metadata": {},
     "output_type": "execute_result"
    }
   ],
   "source": [
    "values=pd.Series([0,1,0,0]*2)\n",
    "dim=pd.Series(['apple','banana'])\n",
    "values\n",
    "dim\n",
    "dim.take(values)"
   ]
  },
  {
   "cell_type": "code",
   "execution_count": 28,
   "metadata": {},
   "outputs": [
    {
     "data": {
      "text/plain": [
       "[apple, orange, apple, apple, apple, orange, apple, apple]\n",
       "Categories (2, object): [apple, orange]"
      ]
     },
     "execution_count": 28,
     "metadata": {},
     "output_type": "execute_result"
    }
   ],
   "source": [
    "fruits=['apple','orange','apple','apple']*2\n",
    "fruits\n",
    "n=len(fruits)\n",
    "n\n",
    "df=pd.DataFrame({'fruits':fruits,'basket_id':np.arange(n),'count':np.random.randint(3,15,size=n),'weight':np.random.uniform(0,4,size=n)},columns=['basket_id','fruits','count','weight'])\n",
    "df\n",
    "fruit_cat=df['fruits'].astype('category')\n",
    "fruit_cat  ###注意，这里的fruit_cat不是一个numpy数组，而是一个pandas.categorical实例\n",
    "c=fruit_cat.values\n",
    "c"
   ]
  },
  {
   "cell_type": "code",
   "execution_count": 32,
   "metadata": {},
   "outputs": [
    {
     "data": {
      "text/plain": [
       "[(-0.0825, 0.614], (0.614, 3.038], (-0.723, -0.0825], (0.614, 3.038], (0.614, 3.038], ..., (-0.0825, 0.614], (-0.723, -0.0825], (0.614, 3.038], (-0.0825, 0.614], (-0.0825, 0.614]]\n",
       "Length: 1000\n",
       "Categories (4, interval[float64]): [(-3.264, -0.723] < (-0.723, -0.0825] < (-0.0825, 0.614] < (0.614, 3.038]]"
      ]
     },
     "execution_count": 32,
     "metadata": {},
     "output_type": "execute_result"
    }
   ],
   "source": [
    "########用分类进行计算\n",
    "draw=np.random.randn(1000)\n",
    "draw\n",
    "draw[:5]\n",
    "bins=pd.qcut(draw,4)\n",
    "bins"
   ]
  },
  {
   "cell_type": "code",
   "execution_count": 33,
   "metadata": {},
   "outputs": [
    {
     "data": {
      "text/plain": [
       "0       (-0.0825, 0.614]\n",
       "1         (0.614, 3.038]\n",
       "2      (-0.723, -0.0825]\n",
       "3         (0.614, 3.038]\n",
       "4         (0.614, 3.038]\n",
       "5      (-0.723, -0.0825]\n",
       "6         (0.614, 3.038]\n",
       "7      (-0.723, -0.0825]\n",
       "8      (-0.723, -0.0825]\n",
       "9       (-0.0825, 0.614]\n",
       "10     (-0.723, -0.0825]\n",
       "11     (-0.723, -0.0825]\n",
       "12     (-0.723, -0.0825]\n",
       "13        (0.614, 3.038]\n",
       "14     (-0.723, -0.0825]\n",
       "15        (0.614, 3.038]\n",
       "16        (0.614, 3.038]\n",
       "17      (-0.0825, 0.614]\n",
       "18      (-3.264, -0.723]\n",
       "19      (-0.0825, 0.614]\n",
       "20        (0.614, 3.038]\n",
       "21        (0.614, 3.038]\n",
       "22     (-0.723, -0.0825]\n",
       "23      (-0.0825, 0.614]\n",
       "24        (0.614, 3.038]\n",
       "25      (-0.0825, 0.614]\n",
       "26        (0.614, 3.038]\n",
       "27      (-3.264, -0.723]\n",
       "28        (0.614, 3.038]\n",
       "29      (-0.0825, 0.614]\n",
       "             ...        \n",
       "970       (0.614, 3.038]\n",
       "971     (-3.264, -0.723]\n",
       "972       (0.614, 3.038]\n",
       "973     (-3.264, -0.723]\n",
       "974       (0.614, 3.038]\n",
       "975    (-0.723, -0.0825]\n",
       "976     (-3.264, -0.723]\n",
       "977       (0.614, 3.038]\n",
       "978     (-3.264, -0.723]\n",
       "979     (-0.0825, 0.614]\n",
       "980       (0.614, 3.038]\n",
       "981       (0.614, 3.038]\n",
       "982     (-0.0825, 0.614]\n",
       "983     (-3.264, -0.723]\n",
       "984    (-0.723, -0.0825]\n",
       "985       (0.614, 3.038]\n",
       "986     (-3.264, -0.723]\n",
       "987     (-0.0825, 0.614]\n",
       "988     (-0.0825, 0.614]\n",
       "989       (0.614, 3.038]\n",
       "990     (-3.264, -0.723]\n",
       "991    (-0.723, -0.0825]\n",
       "992    (-0.723, -0.0825]\n",
       "993     (-0.0825, 0.614]\n",
       "994       (0.614, 3.038]\n",
       "995     (-0.0825, 0.614]\n",
       "996    (-0.723, -0.0825]\n",
       "997       (0.614, 3.038]\n",
       "998     (-0.0825, 0.614]\n",
       "999     (-0.0825, 0.614]\n",
       "Name: quartile, Length: 1000, dtype: category\n",
       "Categories (4, interval[float64]): [(-3.264, -0.723] < (-0.723, -0.0825] < (-0.0825, 0.614] < (0.614, 3.038]]"
      ]
     },
     "execution_count": 33,
     "metadata": {},
     "output_type": "execute_result"
    }
   ],
   "source": [
    "bins=pd.Series(bins,name='quartile')\n",
    "bins"
   ]
  },
  {
   "cell_type": "code",
   "execution_count": 7,
   "metadata": {},
   "outputs": [
    {
     "data": {
      "text/html": [
       "<div>\n",
       "<style scoped>\n",
       "    .dataframe tbody tr th:only-of-type {\n",
       "        vertical-align: middle;\n",
       "    }\n",
       "\n",
       "    .dataframe tbody tr th {\n",
       "        vertical-align: top;\n",
       "    }\n",
       "\n",
       "    .dataframe thead th {\n",
       "        text-align: right;\n",
       "    }\n",
       "</style>\n",
       "<table border=\"1\" class=\"dataframe\">\n",
       "  <thead>\n",
       "    <tr style=\"text-align: right;\">\n",
       "      <th></th>\n",
       "      <th>value</th>\n",
       "    </tr>\n",
       "    <tr>\n",
       "      <th>time</th>\n",
       "      <th></th>\n",
       "    </tr>\n",
       "  </thead>\n",
       "  <tbody>\n",
       "    <tr>\n",
       "      <th>2017-05-20 00:00:00</th>\n",
       "      <td>5</td>\n",
       "    </tr>\n",
       "    <tr>\n",
       "      <th>2017-05-20 00:05:00</th>\n",
       "      <td>5</td>\n",
       "    </tr>\n",
       "    <tr>\n",
       "      <th>2017-05-20 00:10:00</th>\n",
       "      <td>5</td>\n",
       "    </tr>\n",
       "  </tbody>\n",
       "</table>\n",
       "</div>"
      ],
      "text/plain": [
       "                     value\n",
       "time                      \n",
       "2017-05-20 00:00:00      5\n",
       "2017-05-20 00:05:00      5\n",
       "2017-05-20 00:10:00      5"
      ]
     },
     "execution_count": 7,
     "metadata": {},
     "output_type": "execute_result"
    }
   ],
   "source": [
    "######分组的时间重采样\n",
    "N=15\n",
    "times=pd.date_range('2017-05-20 00:00',freq='1min',periods=N)\n",
    "times\n",
    "df=pd.DataFrame({'time':times,'value':np.arange(N)})\n",
    "df\n",
    "df.set_index('time').resample('5min').count()\n"
   ]
  },
  {
   "cell_type": "code",
   "execution_count": null,
   "metadata": {},
   "outputs": [],
   "source": []
  },
  {
   "cell_type": "code",
   "execution_count": null,
   "metadata": {},
   "outputs": [],
   "source": []
  }
 ],
 "metadata": {
  "kernelspec": {
   "display_name": "Python 3",
   "language": "python",
   "name": "python3"
  },
  "language_info": {
   "codemirror_mode": {
    "name": "ipython",
    "version": 3
   },
   "file_extension": ".py",
   "mimetype": "text/x-python",
   "name": "python",
   "nbconvert_exporter": "python",
   "pygments_lexer": "ipython3",
   "version": "3.6.8"
  }
 },
 "nbformat": 4,
 "nbformat_minor": 2
}
